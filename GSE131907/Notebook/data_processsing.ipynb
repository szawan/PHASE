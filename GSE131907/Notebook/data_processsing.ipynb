{
 "cells": [
  {
   "cell_type": "code",
   "execution_count": 1,
   "metadata": {},
   "outputs": [],
   "source": [
    "import os\n",
    "import numpy as np\n",
    "import pandas as pd\n",
    "import scanpy as sc\n",
    "import anndata as ad\n",
    "\n",
    "context_path = \"/scratch/sah2p/datasets/GSE131907\""
   ]
  },
  {
   "cell_type": "code",
   "execution_count": 2,
   "metadata": {},
   "outputs": [],
   "source": [
    "adata = ad.read_h5ad(\"/scratch/sah2p/datasets/GSE131907/04_train_clusters.h5ad\")\n",
    "adata_hvg = adata[:, adata.var[\"highly_variable\"]].copy()\n"
   ]
  },
  {
   "cell_type": "code",
   "execution_count": 3,
   "metadata": {},
   "outputs": [],
   "source": [
    "\n",
    "hvg_genes =pd.DataFrame(adata_hvg.var.index)\n",
    "hvg_genes.to_csv(context_path+\"/hvg_genes.csv\")\n",
    "\n",
    "results_file = context_path+'/Alldata_hvg.h5ad' \n",
    "adata_hvg.write(results_file, compression='gzip')"
   ]
  }
 ],
 "metadata": {
  "kernelspec": {
   "display_name": "scGPT-env",
   "language": "python",
   "name": "python3"
  },
  "language_info": {
   "codemirror_mode": {
    "name": "ipython",
    "version": 3
   },
   "file_extension": ".py",
   "mimetype": "text/x-python",
   "name": "python",
   "nbconvert_exporter": "python",
   "pygments_lexer": "ipython3",
   "version": "3.8.18"
  }
 },
 "nbformat": 4,
 "nbformat_minor": 2
}
