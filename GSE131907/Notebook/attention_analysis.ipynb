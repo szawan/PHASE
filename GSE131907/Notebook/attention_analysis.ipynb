{
 "cells": [
  {
   "cell_type": "code",
   "execution_count": null,
   "metadata": {},
   "outputs": [
    {
     "name": "stdout",
     "output_type": "stream",
     "text": [
      "phenotype                normal    tumour\n",
      "lcell_subtype                            \n",
      "AT1                    0.259565       NaN\n",
      "AT2                    0.250996       NaN\n",
      "Activated DCs          0.446288  0.532212\n",
      "Alveolar Mac           0.561182  0.385874\n",
      "CD141+ DCs             0.380555  0.393631\n",
      "CD163+CD14+ DCs        0.341952  0.230595\n",
      "CD1c+ DCs              0.337333  0.302719\n",
      "CD207+CD1a+ LCs        0.357276  0.493070\n",
      "CD4+ Th                0.383440  0.513925\n",
      "CD8 low T              0.509873  0.495144\n",
      "CD8+/CD4+ Mixed Th     0.527856  0.556142\n",
      "COL13A1+ matrix FBs    0.284383  0.295448\n",
      "COL14A1+ matrix FBs    0.226954  0.276473\n",
      "Ciliated               0.874907       NaN\n",
      "Club                   0.383496       NaN\n",
      "Cytotoxic CD8+ T       0.542511  0.469229\n",
      "EPCs                   0.504146  0.264483\n",
      "Exhausted CD8+ T       0.463905  0.472473\n",
      "Exhausted Tfh          0.479408  0.627495\n",
      "FB-like cells          0.701343  0.559291\n",
      "Follicular B cells     0.516568  0.615615\n",
      "GC B cells in the DZ   0.521057  0.643501\n",
      "GC B cells in the LZ   0.490606  0.634023\n",
      "GrB-secreting B cells  0.410357       NaN\n",
      "Lymphatic ECs          0.292505  0.224414\n",
      "MALT B cells           0.508167  0.629708\n",
      "MAST                   0.361342  0.508203\n",
      "Malignant cells        0.539331  0.500559\n",
      "Mesothelial cells      0.499602  0.482913\n",
      "Microglia/Mac          0.553871  0.481316\n",
      "Monocytes              0.532950  0.351660\n",
      "Myofibroblasts         0.369840  0.435672\n",
      "NK                     0.839481  0.615187\n",
      "Naive CD4+ T           0.496699  0.539047\n",
      "Naive CD8+ T           0.491486  0.467483\n",
      "Pericytes              0.412561  0.410644\n",
      "Plasma cells           0.543156  0.646487\n",
      "Pleural Mac            0.462259  0.453222\n",
      "Smooth muscle cells    0.341141  0.375883\n",
      "Stalk-like ECs         0.245830  0.208340\n",
      "Tip-like ECs           0.223502  0.194187\n",
      "Treg                   0.526666  0.638407\n",
      "Tumor ECs              0.362880  0.248106\n",
      "Undetermined           0.465216  0.431871\n",
      "mo-Mac                 0.374135  0.238035\n",
      "pDCs                   0.592913  0.486341\n",
      "tS1                    0.519370  0.583187\n",
      "tS2                    0.529307  0.624629\n",
      "tS3                    0.587236  0.692614\n"
     ]
    }
   ],
   "source": [
    "# Group by phenotype and cell type to calculate the mean attention score\n",
    "import pandas as pd\n",
    "\n",
    "df = pd.read_csv('/scratch/sah2p/datasets/GSE131907/Analysis_result/Attn_result/attn_cell_PHASE.csv')\n",
    "\n",
    "grouped = df.groupby(['phenotype', 'majority_voting'])['attn'].mean().reset_index()\n",
    "\n",
    "# Pivot the table for comparison\n",
    "pivot_table = grouped.pivot(index='lcell_subtype', columns='phenotype', values='attn')\n",
    "print(pivot_table)"
   ]
  },
  {
   "cell_type": "code",
   "execution_count": 3,
   "metadata": {},
   "outputs": [
    {
     "data": {
      "text/plain": [
       "7"
      ]
     },
     "execution_count": 3,
     "metadata": {},
     "output_type": "execute_result"
    }
   ],
   "source": [
    "len(pivot_table)"
   ]
  },
  {
   "cell_type": "code",
   "execution_count": null,
   "metadata": {},
   "outputs": [],
   "source": []
  }
 ],
 "metadata": {
  "kernelspec": {
   "display_name": "scGPT-env",
   "language": "python",
   "name": "python3"
  },
  "language_info": {
   "codemirror_mode": {
    "name": "ipython",
    "version": 3
   },
   "file_extension": ".py",
   "mimetype": "text/x-python",
   "name": "python",
   "nbconvert_exporter": "python",
   "pygments_lexer": "ipython3",
   "version": "3.8.18"
  }
 },
 "nbformat": 4,
 "nbformat_minor": 2
}
