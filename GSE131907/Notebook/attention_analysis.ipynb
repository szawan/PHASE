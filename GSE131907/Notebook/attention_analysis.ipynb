{
 "cells": [
  {
   "cell_type": "code",
   "execution_count": 5,
   "metadata": {},
   "outputs": [
    {
     "name": "stdout",
     "output_type": "stream",
     "text": [
      "                       attn           barcode         \n",
      "phenotype            normal    tumour  normal   tumour\n",
      "lcell_type                                            \n",
      "B lymphocytes      0.505038  0.619750  1060.0   3256.0\n",
      "Endothelial cells  0.260103  0.220679   741.0    331.0\n",
      "Epithelial cells   0.450440  0.549923  2397.0   2901.0\n",
      "Fibroblasts        0.270813  0.334818   896.0    760.0\n",
      "MAST cells         0.361342  0.508203   636.0   1062.0\n",
      "Myeloid cells      0.500401  0.297640  5323.0   3552.0\n",
      "NK cells           0.869124  0.727963  3935.0    716.0\n",
      "Oligodendrocytes   0.466545  0.553541    16.0     18.0\n",
      "T lymphocytes      0.470508  0.522551  7866.0  12292.0\n",
      "Undetermined       0.545354  0.549251    19.0     21.0\n"
     ]
    }
   ],
   "source": [
    "# Group by phenotype and cell type to calculate the mean attention score\n",
    "import pandas as pd\n",
    "\n",
    "df = pd.read_csv('/scratch/sah2p/datasets/GSE131907/Analysis_result/Attn_result/attn_cell_PHASE.csv')\n",
    "\n",
    "grouped = df.groupby(['phenotype', 'lcell_type']).aggregate({'attn':'mean',\n",
    "                                                              'barcode': 'nunique'\n",
    "                                                                  }).reset_index()\n",
    "\n",
    "# Pivot the table for comparison\n",
    "pivot_table = grouped.pivot(index='lcell_type', columns='phenotype', values=['attn','barcode'])\n",
    "print(pivot_table)"
   ]
  },
  {
   "cell_type": "code",
   "execution_count": 3,
   "metadata": {},
   "outputs": [
    {
     "data": {
      "text/plain": [
       "7"
      ]
     },
     "execution_count": 3,
     "metadata": {},
     "output_type": "execute_result"
    }
   ],
   "source": [
    "len(pivot_table)"
   ]
  },
  {
   "cell_type": "code",
   "execution_count": null,
   "metadata": {},
   "outputs": [],
   "source": []
  }
 ],
 "metadata": {
  "kernelspec": {
   "display_name": "scGPT-env",
   "language": "python",
   "name": "python3"
  },
  "language_info": {
   "codemirror_mode": {
    "name": "ipython",
    "version": 3
   },
   "file_extension": ".py",
   "mimetype": "text/x-python",
   "name": "python",
   "nbconvert_exporter": "python",
   "pygments_lexer": "ipython3",
   "version": "undefined.undefined.undefined"
  }
 },
 "nbformat": 4,
 "nbformat_minor": 2
}
