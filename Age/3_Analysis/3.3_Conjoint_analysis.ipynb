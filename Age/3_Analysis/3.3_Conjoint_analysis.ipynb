{
 "cells": [
  {
   "cell_type": "markdown",
   "metadata": {},
   "source": [
    "## 1. Calculate the gene expression score"
   ]
  },
  {
   "cell_type": "code",
   "execution_count": null,
   "metadata": {
    "vscode": {
     "languageId": "r"
    }
   },
   "outputs": [],
   "source": [
    "import os,gc\n",
    "import scanpy as sc\n",
    "import pandas as pd\n",
    "import anndata as ad\n",
    "import numpy as np\n",
    "\n",
    "os.chdir(\"/data/wuqinhua/phase/age\")"
   ]
  },
  {
   "cell_type": "code",
   "execution_count": null,
   "metadata": {
    "vscode": {
     "languageId": "r"
    }
   },
   "outputs": [],
   "source": [
    "## ----------------- TOP100 gene ---------------------\n",
    "\n",
    "adata = sc.read('./all_pbmc_anno_s.h5ad')\n",
    "print(\"read_over\")\n",
    "\n",
    "age_gene = pd.read_csv(\"./Analysis_result/Attr_result/attr_age_all.csv\") \n",
    "top_100 = age_gene.sort_values(by='attr_value', ascending=False).head(100)\n",
    "top_100 = top_100['gene_name'].tolist()\n",
    "\n",
    "bottom_100 = age_gene.sort_values(by='attr_value', ascending=True).head(100)\n",
    "bottom_100 = bottom_100['gene_name'].tolist()\n",
    "\n",
    "print(\"top100: \",top_100)\n",
    "print(\"boottom100: \", bottom_100)\n",
    "print(\"gene_over\")\n",
    "\n",
    "\n",
    "sc.tl.score_genes(adata, top_100, ctrl_size=100, gene_pool=None, n_bins=25, score_name='gene_ex_score', random_state=0, copy=False, use_raw=None)\n",
    "adata.obs.to_csv('./Analysis_result/Conjoint_result/gene_ex_scores_top100.csv')\n",
    "sc.tl.score_genes(adata, bottom_100, ctrl_size=100, gene_pool=None, n_bins=25, score_name='gene_ex_score', random_state=0, copy=False, use_raw=None)\n",
    "adata.obs.to_csv('./Analysis_result/Conjoint_result/gene_ex_scores_bottom100.csv')\n",
    "\n",
    "print(\"over\")"
   ]
  },
  {
   "cell_type": "markdown",
   "metadata": {},
   "source": [
    "## 2. Correlation scatter"
   ]
  },
  {
   "cell_type": "code",
   "execution_count": null,
   "metadata": {
    "vscode": {
     "languageId": "r"
    }
   },
   "outputs": [],
   "source": [
    "setwd(\"/data/wuqinhua/phase/age\")\n",
    "rm(list = ls())\n",
    "gc()\n",
    "\n",
    "library(cowplot) \n",
    "library(ggplot2) \n",
    "library(RColorBrewer) \n",
    "library(dplyr) \n",
    "library(tidyr)\n",
    "library(ggpubr) \n",
    "library(broom)\n",
    "library(tidyverse)\n",
    "library(tibble)\n",
    "library(janitor)\n",
    "library(ggrepel)\n",
    "library(tidyr)\n",
    "library(ggplot2)\n",
    "library(forestploter)\n",
    "library(gridExtra)\n",
    "library(tidyverse)\n",
    "library(dplyr)\n",
    "library(broom)\n",
    "library(ggpubr)\n",
    "library(randomForest)\n",
    "library(mice)\n",
    "library(reshape2)\n",
    "library(gghalves)\n",
    "library(cowplot)\n",
    "library(patchwork)"
   ]
  },
  {
   "cell_type": "code",
   "execution_count": null,
   "metadata": {
    "vscode": {
     "languageId": "r"
    }
   },
   "outputs": [],
   "source": [
    "ex_t <- read.csv(\"'./Analysis_result/Conjoint_result/gene_ex_scores_top100.csv\", row.names = 1)  \n",
    "attnData = read.csv('./Analysis_result/Attn_result/attn_age_cell_PHASE.csv')\n",
    "nameAll = unique(attnData$celltype)\n",
    "nameList = sort(nameAll)\n",
    "\n",
    "sampleFold = data.frame(id = character(), celltype = character(), fold = numeric())\n",
    "idList = unique(attnData$Tube_id)\n",
    "for (id in idList) {\n",
    "  attnTmp = attnData %>% filter(Tube_id == id)\n",
    "  avgScore = 1 / dim(attnTmp)[1]\n",
    "  foldRes = attnTmp %>% group_by(celltype) %>% summarise(res = median(log2(attn/avgScore)))\n",
    "  dataTmp = data.frame(id = rep(id,dim(foldRes)[1]),\n",
    "                       celltype = foldRes$celltype,\n",
    "                       fold = foldRes$res)\n",
    "  dataTmp_s = dataTmp %>% filter(celltype %in% nameList)\n",
    "  dataTmp_s$fold = scale(dataTmp_s$fold)\n",
    "  sampleFold = rbind(sampleFold,dataTmp_s)\n",
    "}\n",
    "\n",
    "sampleFold.Table = dcast(sampleFold,id ~ celltype)\n",
    "rownames(sampleFold.Table) = sampleFold.Table$id\n",
    "sampleFold.Table$id = NULL\n",
    "\n",
    "attn = sampleFold.Table"
   ]
  },
  {
   "cell_type": "code",
   "execution_count": 1,
   "metadata": {
    "vscode": {
     "languageId": "r"
    }
   },
   "outputs": [],
   "source": [
    "exData = ex_t  \n",
    "\n",
    "nameAll = unique(exData$celltype)\n",
    "nameList = sort(nameAll)\n",
    "\n",
    "sampleFold = data.frame(id = character(), celltype = character(), fold = numeric())\n",
    "idList = unique(exData$Tube_id)\n",
    "for (id in idList) {\n",
    "  attnTmp = exData %>% filter(Tube_id == id)\n",
    "  avgScore = 1 / dim(attnTmp)[1]\n",
    "  foldRes = attnTmp %>% group_by(celltype) %>% summarise(res = median(gene_ex_score))\n",
    "  dataTmp = data.frame(id = rep(id,dim(foldRes)[1]),\n",
    "                       celltype = foldRes$celltype,\n",
    "                       fold = foldRes$res)\n",
    "  dataTmp_s = dataTmp %>% filter(celltype %in% nameList)\n",
    "  sampleFold = rbind(sampleFold,dataTmp_s)\n",
    "}\n",
    "\n",
    "ex_sampleFold.Table = dcast(sampleFold,id ~ celltype)\n",
    "rownames(ex_sampleFold.Table) = ex_sampleFold.Table$id\n",
    "ex_sampleFold.Table$id = NULL\n",
    "ex = ex_sampleFold.Table\n",
    "head(ex)"
   ]
  },
  {
   "cell_type": "code",
   "execution_count": null,
   "metadata": {
    "vscode": {
     "languageId": "r"
    }
   },
   "outputs": [],
   "source": [
    "sampleInfo = read.csv('./Info/sample_info.csv')\n",
    "rownames(sampleInfo) = sampleInfo$Tube_id\n",
    "sampleInfo = sampleInfo[rownames(attn),]\n",
    "ex = ex[rownames(attn),]\n",
    "\n",
    "label_df <- data.frame(sample = sampleInfo$Tube_id, label = sampleInfo$Age_group)\n",
    "\n",
    "custom_colors <- c(\"A\" = \"#FFCCCC\", \"B\" = \"#999933\", \"C\" = \"#B0E57C\", \"D\" = \"#99CCFF\", \"E\" = \"#D2B5E1\")\n",
    "\n",
    "plot_list <- list()\n",
    "\n",
    "for (celltype in colnames(ex_sampleFold.Table)) {\n",
    "\n",
    "  merged_data <- data.frame(\n",
    "    sample = rownames(attn),\n",
    "    attn = attn[, celltype],\n",
    "    ex = ex[, celltype],   \n",
    "    label = label_df$label\n",
    "  )\n",
    "\n",
    "p <- ggscatter(merged_data, x = 'attn', y = 'ex', title = paste(\"Cell type:\", celltype),\n",
    "                 add = \"reg.line\", color = 'label',\n",
    "                 add.params = list(color = \"#4B4B4B\", fill = \"lightgray\"),\n",
    "                 cor.coeff.args = list(method = \"pearson\", size = 6),  \n",
    "                 conf.int = TRUE, cor.coef = TRUE, cor.method = \"pearson\",  \n",
    "                 size = 3, font.label = c(5, 'plain')) +\n",
    "                 scale_color_manual(values = custom_colors)\n",
    "  \n",
    " \n",
    "  plot_list[[celltype]] <- p\n",
    "  # ggsave(paste0(\"./Plot/Attn_plot//scatter_top100/correlation_\", celltype, \".pdf\"), plot = p, width = 5, height = 4)\n",
    "}\n",
    "\n",
    "combine_plot = wrap_plots(plot_list,ncol=8)\n",
    "ggsave(\"./Plot/Attn_plot/scatter_ex_attn/correlation_top100.png\",combine_plot,width = 40,height = 28)"
   ]
  }
 ],
 "metadata": {
  "kernelspec": {
   "display_name": "R",
   "language": "R",
   "name": "ir"
  },
  "language_info": {
   "codemirror_mode": "r",
   "file_extension": ".r",
   "mimetype": "text/x-r-source",
   "name": "R",
   "pygments_lexer": "r",
   "version": "4.4.0"
  }
 },
 "nbformat": 4,
 "nbformat_minor": 2
}
