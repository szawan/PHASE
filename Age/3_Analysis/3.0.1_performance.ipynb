{
 "cells": [
  {
   "cell_type": "code",
   "execution_count": null,
   "metadata": {
    "vscode": {
     "languageId": "r"
    }
   },
   "outputs": [],
   "source": [
    "library(ggplot2)\n",
    "library(dplyr)\n",
    "\n",
    "setwd(\"/home/wuqinhua/Project/PHASE/Age\")"
   ]
  },
  {
   "cell_type": "markdown",
   "metadata": {},
   "source": [
    "### Five_fold"
   ]
  },
  {
   "cell_type": "code",
   "execution_count": null,
   "metadata": {
    "vscode": {
     "languageId": "r"
    }
   },
   "outputs": [],
   "source": [
    "\n",
    "df1 <- read.csv(\"./Model_result/y_true_pred_0.csv\")\n",
    "df1$Group <- \"Fold1\"\n",
    "df2 <- read.csv(\"./Model_result/y_true_pred_1.csv\")\n",
    "df2$Group <- \"Fold2\"\n",
    "df3 <- read.csv(\"./Model_result/y_true_pred_2.csv\")\n",
    "df3$Group <- \"Fold3\"\n",
    "df4 <- read.csv(\"./Model_result/y_true_pred_3.csv\")\n",
    "df4$Group <- \"Fold4\"\n",
    "df5 <- read.csv(\"./Model_result/y_true_pred_4.csv\")\n",
    "df5$Group <- \"Fold5\"\n",
    "\n",
    "combined_df <- rbind(df1, df2, df3, df4, df5)\n",
    "\n",
    "correlation <- combined_df %>%\n",
    "  group_by(Group) %>%\n",
    "  summarise(cor_value = cor(True, Pred), .groups = 'drop')\n",
    "\n",
    "p <- ggplot(combined_df, aes(x = True, y = Pred, color = Group)) +\n",
    "  geom_point(size =2.5,alpha= 0.5, shape= 16,stroke = 0.5) +\n",
    "  geom_smooth(method = \"lm\", se = TRUE, \n",
    "              aes(color = Group, fill = Group),  \n",
    "              alpha = 0.1) +                     \n",
    "  geom_text(data = correlation, aes(x = Inf, y = Inf, label = sprintf(\"Cor: %.2f\", cor_value), color = Group), \n",
    "            hjust = 1, vjust = 1, size = 4, nudge_x = 1, nudge_y = 1) + \n",
    "  labs(title = \"Scatter Plot of True vs Predicted Values\",\n",
    "       x = \"True Values\",\n",
    "       y = \"Predicted Values\") +\n",
    "  theme_classic() +\n",
    "  theme(\n",
    "    panel.grid = element_blank(),   \n",
    "    axis.line = element_line(color = \"black\")  \n",
    "  ) \n",
    "\n",
    "ggsave(\"./Plot/performance_age.png\", p, width = 10, height = 6)\n"
   ]
  },
  {
   "cell_type": "markdown",
   "metadata": {},
   "source": [
    "### Test_dataset"
   ]
  },
  {
   "cell_type": "code",
   "execution_count": null,
   "metadata": {
    "vscode": {
     "languageId": "r"
    }
   },
   "outputs": [],
   "source": [
    "df <- read.csv(\"./Age_test/true_vs_pred.csv\")\n",
    "\n",
    "p <- ggplot(df, aes(x = True, y = Pred)) +\n",
    "  geom_point(size = 2, color = \"black\", fill = \"lightblue\", shape = 21) +  \n",
    "  geom_smooth(method = \"lm\", se = TRUE, \n",
    "              color = \"blue\",         \n",
    "              fill = \"lightblue\",     \n",
    "              alpha = 0.2) +         \n",
    "  labs(title = \"True vs Predicted Values\",\n",
    "       x = \"True Values\",\n",
    "       y = \"Predicted Values\") +\n",
    "  theme_classic() +\n",
    "  theme(\n",
    "    panel.grid = element_blank(),   \n",
    "    axis.line = element_line(color = \"black\")  \n",
    "  )\n",
    "\n",
    "ggsave(\"./Plot/performance_age_test.pdf\", p, width = 6, height = 3)\n"
   ]
  }
 ],
 "metadata": {
  "kernelspec": {
   "display_name": "R",
   "language": "R",
   "name": "ir"
  },
  "language_info": {
   "codemirror_mode": "r",
   "file_extension": ".r",
   "mimetype": "text/x-r-source",
   "name": "R",
   "pygments_lexer": "r",
   "version": "4.4.0"
  }
 },
 "nbformat": 4,
 "nbformat_minor": 2
}
