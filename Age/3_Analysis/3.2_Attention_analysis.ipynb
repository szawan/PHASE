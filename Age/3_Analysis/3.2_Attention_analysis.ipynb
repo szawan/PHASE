{
 "cells": [
  {
   "cell_type": "code",
   "execution_count": 1,
   "metadata": {
    "vscode": {
     "languageId": "r"
    }
   },
   "outputs": [],
   "source": [
    "import os\n",
    "import sys\n",
    "import scipy\n",
    "import numpy as np\n",
    "import pandas as pd\n",
    "import scanpy as sc\n",
    "import seaborn as sns\n",
    "import scipy.io as sio\n",
    "import anndata as ad\n",
    "import matplotlib.pyplot as plt\n",
    "\n",
    "os.chdir(\"/data/wuqinhua/phase/age\")"
   ]
  },
  {
   "cell_type": "markdown",
   "metadata": {},
   "source": [
    "# 1. UMAP"
   ]
  },
  {
   "cell_type": "code",
   "execution_count": 2,
   "metadata": {
    "vscode": {
     "languageId": "r"
    }
   },
   "outputs": [],
   "source": [
    "attnData = pd.read_csv(\"./Analysis_result/Attn_result/attn_age_cell_PHASE.csv\")"
   ]
  },
  {
   "cell_type": "code",
   "execution_count": null,
   "metadata": {
    "vscode": {
     "languageId": "r"
    }
   },
   "outputs": [],
   "source": [
    "sc.settings.verbosity = 1\n",
    "sc.settings.figdir = './Plot/Attn_plot'\n",
    "sc.settings.set_figure_params(dpi=100, fontsize=10, dpi_save=400,\n",
    "    facecolor = 'white', figsize=(6,6), format='png')"
   ]
  },
  {
   "cell_type": "code",
   "execution_count": 3,
   "metadata": {
    "vscode": {
     "languageId": "r"
    }
   },
   "outputs": [],
   "source": [
    "idList = attnData['Tube_id'].unique()\n",
    "for id in idList:\n",
    "    attnTmp = attnData[attnData['Tube_id'] == id]\n",
    "    avgScore = 1 / len(attnTmp)\n",
    "    log_attn = np.log2(attnTmp['attn'] / avgScore)\n",
    "    attn_scaled = (log_attn - np.mean(log_attn)) / np.std(log_attn)\n",
    "    attn_scaled_clipped = np.clip(attn_scaled, -1, 1)\n",
    "    attnData.loc[attnData['Tube_id'] == id, 'attn_scaled'] = attn_scaled_clipped"
   ]
  },
  {
   "cell_type": "code",
   "execution_count": 4,
   "metadata": {
    "vscode": {
     "languageId": "r"
    }
   },
   "outputs": [
    {
     "data": {
      "text/plain": [
       "AnnData object with n_obs × n_vars = 2540586 × 5000\n",
       "    obs: 'batch', 'sample_id', 'group', 'n_genes', 'n_genes_by_counts', 'total_counts', 'total_counts_MT', 'pct_counts_MT', 'leiden', 'predicted_labels', 'over_clustering', 'majority_voting'\n",
       "    var: 'n_cells_by_counts', 'mean_counts', 'pct_dropout_by_counts', 'total_counts', 'highly_variable', 'means', 'dispersions', 'dispersions_norm', 'highly_variable_nbatches', 'highly_variable_intersection', 'mean', 'std'\n",
       "    uns: 'hvg', 'leiden', 'leiden_colors', 'log1p', 'majority_voting_colors', 'neighbors', 'pca', 'predicted_labels_colors', 'sample_id_colors', 'umap'\n",
       "    obsm: 'X_pca', 'X_pca_harmony', 'X_umap'\n",
       "    varm: 'PCs'\n",
       "    obsp: 'connectivities', 'distances'"
      ]
     },
     "execution_count": 4,
     "metadata": {},
     "output_type": "execute_result"
    }
   ],
   "source": [
    "adata = ad.read_h5ad('./all_pbmc_anno_s.h5ad')\n",
    "adata.obs[\"attn_scaled\"] = attnData[\"attn_scaled\"].values\n",
    "adata1 = adata[adata.obs['Age_group'] == \"A\"]\n",
    "adata2 = adata[adata.obs['Age_group'] == \"B\"]\n",
    "adata3 = adata[adata.obs['Age_group'] == \"C\"]\n",
    "adata4 = adata[adata.obs['Age_group'] == \"D\"]\n",
    "adata5 = adata[adata.obs['Age_group'] == \"E\"]"
   ]
  },
  {
   "cell_type": "markdown",
   "metadata": {},
   "source": [
    "### 1.1 UMAP of celltype"
   ]
  },
  {
   "cell_type": "code",
   "execution_count": null,
   "metadata": {
    "vscode": {
     "languageId": "r"
    }
   },
   "outputs": [],
   "source": [
    "leiden_umap = sc.pl.umap(adata, color=['celltype'],\n",
    "    show=False,  palette=sns.color_palette(\"husl\", 24),\n",
    "legend_fontsize=6, frameon=True, title='celltype', save = \"_celltype.pdf\")"
   ]
  },
  {
   "cell_type": "markdown",
   "metadata": {},
   "source": [
    "### 1.2 UMAP of group"
   ]
  },
  {
   "cell_type": "code",
   "execution_count": null,
   "metadata": {
    "vscode": {
     "languageId": "r"
    }
   },
   "outputs": [],
   "source": [
    "leiden_umap = sc.pl.umap(adata, color='Age', show=False, legend_fontsize=6, color_map ='viridis',\n",
    "                           frameon= True, title='UMAP of Age',save=\"_Age.pdf\") "
   ]
  },
  {
   "cell_type": "markdown",
   "metadata": {},
   "source": [
    "### 1.3 UMAP of age group"
   ]
  },
  {
   "cell_type": "code",
   "execution_count": null,
   "metadata": {
    "vscode": {
     "languageId": "r"
    }
   },
   "outputs": [],
   "source": [
    "leiden_umap = sc.pl.umap(adata, color='Age_group', show=False, legend_fontsize=6, palette =[\"#FFCCCC\", \"#999933\", \"#B0E57C\",  \"#99CCFF\",  \"#D2B5E1\"],\n",
    "                           frameon= True, title='UMAP of Age_group',save=\"_Age_group.pdf\") "
   ]
  },
  {
   "cell_type": "markdown",
   "metadata": {},
   "source": [
    "### 1.4 UMAP of Attention score"
   ]
  },
  {
   "cell_type": "code",
   "execution_count": 6,
   "metadata": {
    "vscode": {
     "languageId": "r"
    }
   },
   "outputs": [],
   "source": [
    "leiden_umap = sc.pl.umap(adata5, color='attn_scaled', show=False, legend_fontsize=6, color_map ='viridis',\n",
    "                           frameon= True, title='Attention Score of A',save=\"_attn_Age_A.pdf\") \n",
    "leiden_umap = sc.pl.umap(adata5, color='attn_scaled', show=False, legend_fontsize=6, color_map ='viridis',\n",
    "                           frameon= True, title='Attention Score of B',save=\"_attn_Age_B.pdf\") \n",
    "leiden_umap = sc.pl.umap(adata5, color='attn_scaled', show=False, legend_fontsize=6, color_map ='viridis',\n",
    "                           frameon= True, title='Attention Score of C',save=\"_attn_Age_C.pdf\") \n",
    "leiden_umap = sc.pl.umap(adata5, color='attn_scaled', show=False, legend_fontsize=6, color_map ='viridis',\n",
    "                           frameon= True, title='Attention Score of D',save=\"_attn_Age_D.pdf\") \n",
    "leiden_umap = sc.pl.umap(adata5, color='attn_scaled', show=False, legend_fontsize=6, color_map ='viridis',\n",
    "                           frameon= True, title='Attention Score of E',save=\"_attn_Age_E.pdf\") "
   ]
  },
  {
   "cell_type": "markdown",
   "metadata": {},
   "source": [
    "# 2. RMSE"
   ]
  },
  {
   "cell_type": "code",
   "execution_count": null,
   "metadata": {
    "vscode": {
     "languageId": "r"
    }
   },
   "outputs": [],
   "source": [
    "setwd('/home/wuqinhua/Project/PHASE/Age')\n",
    "rm(list = ls())\n",
    "gc()\n",
    "\n",
    "library(tidyr)\n",
    "library(ggplot2)\n",
    "library(forestploter)\n",
    "library(gridExtra)\n",
    "library(tidyverse)\n",
    "library(dplyr)\n",
    "library(broom)\n",
    "library(ggpubr)\n",
    "library(randomForest)\n",
    "library(mice)\n",
    "library(reshape2)\n",
    "library(Metrics)"
   ]
  },
  {
   "cell_type": "code",
   "execution_count": null,
   "metadata": {
    "vscode": {
     "languageId": "r"
    }
   },
   "outputs": [],
   "source": [
    "attnData = read.csv('./Analysis_result/Attn_result/attn_age_cell_PHASE.csv')\n",
    "head(attnData)\n",
    "colnames(attnData)\n",
    "\n",
    "nameAll = unique(attnData$Cluster_names)\n",
    "nameAll = sort(nameAll)\n",
    "nameList = nameAll\n",
    "\n",
    "sampleFold = data.frame(id = character(), celltype = character(),\n",
    "                        freq = numeric(), attn = numeric())\n",
    "\n",
    "idList = unique(attnData$Tube_id)\n",
    "for (id in idList) {\n",
    "  attnTmp = attnData %>% filter(Tube_id == id)\n",
    "  avgScore = 1 / dim(attnTmp)[1]\n",
    "  foldRes = attnTmp %>% group_by(Cluster_names) %>% summarise(res = sum(attn))\n",
    "  freqRes = attnTmp %>% group_by(Cluster_names) %>% summarise(res = avgScore * n())\n",
    "  dataTmp = data.frame(id = rep(id,dim(foldRes)[1]),\n",
    "                       celltype = foldRes$Cluster_names,\n",
    "                       freq = freqRes$res,\n",
    "                       attn = foldRes$res)\n",
    "  dataTmp_s = dataTmp %>% filter(celltype %in% nameList)\n",
    "  sampleFold = rbind(sampleFold,dataTmp_s)\n",
    "}\n",
    "head(sampleFold)\n",
    "\n",
    "sampleInfo = read.csv('./Info/sample_info.csv')\n",
    "rownames(sampleInfo) = sampleInfo$Tube_id\n",
    "sampleInfo_s = sampleInfo[sampleFold$id,]\n",
    "sampleFold$group = sampleInfo_s$Age_group\n"
   ]
  },
  {
   "cell_type": "code",
   "execution_count": null,
   "metadata": {
    "vscode": {
     "languageId": "r"
    }
   },
   "outputs": [],
   "source": [
    "### get the patient-level rmse\n",
    "sampleFold_cor = sampleFold %>% group_by(id) %>% summarise(res = rmse(freq,attn)) %>% data.frame()\n",
    "sampleFold_cor$age = sampleInfo[sampleFold_cor$id,'Age']\n",
    "sampleFold_cor$group = sampleInfo[sampleFold_cor$id,'Age_group']\n",
    "head(sampleFold_cor)\n",
    "\n",
    "cor(sampleFold_cor$res,sampleFold_cor$age)\n",
    "\n",
    "### RMSE and age\n",
    "p = ggplot(sampleFold_cor, aes(x = age, y = res)) +\n",
    "  geom_point(color = \"#1f77b4\", size = 3, alpha = 0.6) +  \n",
    "  geom_smooth(method = \"lm\", formula = y ~ poly(x, 2), color = \"gray0\", size = 1, se = TRUE) +\n",
    "  labs(\n",
    "    title = \"Age vs. Rmse\",\n",
    "    x = \"Age\",\n",
    "    y = \"Rmse\"\n",
    "  ) +\n",
    "  theme_classic() +  \n",
    "  theme(\n",
    "    plot.title = element_text(hjust = 0.5, face = \"bold\"),  \n",
    "    legend.position = \"bottom\" \n",
    "  )\n",
    "ggsave(\"./Plot/Attn_plot/Sum_scatter.pdf\", p, width = 6, height = 4)\n",
    "\n",
    "### RMSE and age group\n",
    "p <- ggplot(sampleFold_cor,aes(x = group,y = res,fill = group)) +\n",
    "  geom_boxplot(alpha = 0.6,outlier.size = 0.5) +  # 设置透明度为0.6\n",
    "  labs(title = \"Rmse for each group\",\n",
    "       x = \"Age Group\", y = \"Rmse\") +\n",
    "  theme_classic() +\n",
    "  theme(panel.grid = element_blank(),\n",
    "        axis.line = element_line(color = \"black\"),\n",
    "        strip.background = element_blank(),\n",
    "        strip.text = element_text(size = 10)) \n",
    "p\n",
    "ggsave(\"./Plot/plot_0914/Sum_boxplot.pdf\", p, width = 6, height = 4)"
   ]
  },
  {
   "cell_type": "code",
   "execution_count": null,
   "metadata": {
    "vscode": {
     "languageId": "r"
    }
   },
   "outputs": [],
   "source": [
    "### get the cellype-level rmse\n",
    "t11 = sampleFold %>% group_by(celltype) %>% summarise(res = rmse(freq,attn)) %>% data.frame()\n",
    "x1 = t11 %>% arrange(desc(res))\n",
    "x1$celltype = factor(x1$celltype,levels = x1$celltype)\n",
    "\n",
    "### RMSE and Cluster\n",
    "x1 <- x1 %>%\n",
    "  mutate(celltype = factor(celltype, levels = unique(celltype[order(res, decreasing = F)])))\n",
    "red_gradient <- colorRampPalette(c(\"#FADADD\", \"#E32636\", \"#8B0000\"))\n",
    "\n",
    "p <- ggplot(x1,aes(x = celltype,y=res,fill=res)) + \n",
    "  geom_bar(stat='identity', width=0.6) +\n",
    "  scale_fill_gradientn(colors=red_gradient(100)) + \n",
    "  labs(x=\"\", y='RMSE(freq,attn)', title=\"RMSE of Cluster\") +\n",
    "  coord_flip() +\n",
    "  theme_classic() +\n",
    "  theme(axis.text=element_text(size=10, face=\"bold\"),\n",
    "        axis.title=element_text(size=12, face=\"bold\"))\n",
    "\n",
    "ggsave(\"/home/wuqinhua/Project/PHASE/Age/Plot/plot_0914/Sum_barplot.pdf\", p, width =5, height = 3)"
   ]
  },
  {
   "cell_type": "markdown",
   "metadata": {},
   "source": [
    "# 3. R2"
   ]
  },
  {
   "cell_type": "code",
   "execution_count": null,
   "metadata": {
    "vscode": {
     "languageId": "r"
    }
   },
   "outputs": [],
   "source": [
    "attnData = read.csv('./Analysis_result/Attn_result/attn_age_cell_PHASE.csv')\n",
    "head(attnData)\n",
    "colnames(attnData)\n",
    "\n",
    "nameAll = unique(attnData$celltype)\n",
    "nameAll = sort(nameAll)\n",
    "\n",
    "# cell type\n",
    "cell_types <- list(\n",
    "  B = nameAll[1:9],\n",
    "  CD4 = nameAll[10:25],\n",
    "  CD8 = nameAll[26:37],\n",
    "  GD = nameAll[39:43],\n",
    "  Myeloid = nameAll[45:48],\n",
    "  NK = nameAll[49:54]\n",
    ")\n",
    "\n",
    "plot_list <- list()\n",
    "\n",
    "for (cell_type in names(cell_types)) {\n",
    "  \n",
    "  nameList <- cell_types[[cell_type]]\n",
    "  \n",
    "  sampleFold <- data.frame(id = character(), celltype = character(), fold = numeric())\n",
    "  idList <- unique(attnData$Tube_id)\n",
    "  \n",
    "  for (id in idList) {\n",
    "    attnTmp <- attnData %>% filter(Tube_id == id)\n",
    "    avgScore <- 1 / dim(attnTmp)[1]\n",
    "    foldRes <- attnTmp %>% group_by(celltype) %>% summarise(res = median(log2(attn / avgScore)))\n",
    "    dataTmp <- data.frame(id = rep(id, dim(foldRes)[1]), celltype = foldRes$celltype, fold = foldRes$res)\n",
    "    dataTmp_s <- dataTmp %>% filter(celltype %in% nameList)\n",
    "    dataTmp_s$fold <- scale(dataTmp_s$fold)\n",
    "    \n",
    "    sampleFold <- rbind(sampleFold, dataTmp_s)\n",
    "  }\n",
    "  \n",
    "  sampleFold.Table <- dcast(sampleFold, id ~ celltype)\n",
    "  rownames(sampleFold.Table) <- sampleFold.Table$id\n",
    "  sampleFold.Table$id <- NULL\n",
    "  sampleInfo <- sampleInfo[rownames(sampleFold.Table), ]\n",
    "  \n",
    "  corData <- data.frame(id = character(), cor = numeric(), r2 = numeric(), pvalue = numeric(), pv2 = numeric())\n",
    "  for (id in nameList) {\n",
    "    t1 <- data.frame(value = sampleFold.Table[, id], age = sampleInfo$Age, group = sampleInfo$Age_group)\n",
    "    t11 <- na.omit(t1)\n",
    "    res <- cor(t11$value, t11$age)\n",
    "    r2 <- summary(lm(t11$value ~ t11$age))$r.squared\n",
    "    pvalue <- cor.test(t11$value, t11$age)$p.value\n",
    "    pv2 <- kruskal.test(value ~ group, data = t11)$p.value\n",
    "    dataTmp <- data.frame(id = id, cor = res, r2 = r2, pvalue = pvalue, pv2 = pv2)\n",
    "    corData <- rbind(corData, dataTmp)\n",
    "  }\n",
    "  \n",
    "  corData$abs <- abs(corData$cor)\n",
    "  corData <- corData %>% mutate(id = as.factor(id), id = fct_reorder(id, r2))\n",
    "  red_gradient <- colorRampPalette(c(\"#FADADD\", \"#E32636\", \"#8B0000\"))\n",
    "  \n",
    "  p <- ggplot(corData, aes(x = id, y = r2, fill = r2)) + \n",
    "    geom_bar(stat = 'identity', width = 0.6) +\n",
    "    scale_fill_gradientn(colors = red_gradient(100)) +\n",
    "    labs(x = \"\", y = 'r2', title = paste(\"r2 of\", cell_type, \"cell\")) +\n",
    "    coord_flip() +\n",
    "    theme_classic() +\n",
    "    theme(axis.text = element_text(size = 10, face = \"bold\"),\n",
    "          axis.title = element_text(size = 12, face = \"bold\"))\n",
    "  \n",
    "  plot_list[[cell_type]] <- p\n",
    "}\n",
    "\n",
    "pdf(\"./Plot/Attn_plot/barplot_r2.pdf\", width = 20, height = 12)\n",
    "grid.arrange(grobs = plot_list, ncol = 1)\n",
    "dev.off()"
   ]
  },
  {
   "cell_type": "markdown",
   "metadata": {},
   "source": [
    "# 4. Boxplot of Attention score"
   ]
  },
  {
   "cell_type": "code",
   "execution_count": null,
   "metadata": {
    "vscode": {
     "languageId": "r"
    }
   },
   "outputs": [],
   "source": [
    "attnData = read.csv('./Analysis_result/Attn_result/attn_age_cell_PHASE.csv')\n",
    "head(attnData)\n",
    "colnames(attnData)\n",
    "\n",
    "nameAll = unique(attnData$celltype)\n",
    "nameAll = sort(nameAll)\n",
    "nameAll\n",
    "\n",
    "nameList = nameAll\n",
    "\n",
    "print(nameList)\n",
    "\n",
    "sampleFold = data.frame(id = character(), celltype = character(), fold = numeric())\n",
    "idList = unique(attnData$Tube_id)\n",
    "for (id in idList) {\n",
    "  attnTmp = attnData %>% filter(Tube_id == id)\n",
    "  avgScore = 1 / dim(attnTmp)[1]\n",
    "  foldRes = attnTmp %>% group_by(celltype) %>% summarise(res = median(log2(attn/avgScore)))\n",
    "  dataTmp = data.frame(id = rep(id,dim(foldRes)[1]),\n",
    "                       celltype = foldRes$celltype,\n",
    "                       fold = foldRes$res)\n",
    "  dataTmp_s = dataTmp %>% filter(celltype %in% nameList)\n",
    "  dataTmp_s$fold = scale(dataTmp_s$fold)\n",
    "\n",
    "  sampleFold = rbind(sampleFold,dataTmp_s)\n",
    "}\n",
    "\n",
    "sampleFold.Table = dcast(sampleFold,id ~ celltype)\n",
    "rownames(sampleFold.Table) = sampleFold.Table$id\n",
    "sampleFold.Table$id = NULL\n",
    "print(colnames(sampleFold.Table))\n",
    "\n",
    "sampleInfo = read.csv('.Info/sample_info.csv')\n",
    "rownames(sampleInfo) = sampleInfo$Tube_id\n",
    "sampleInfo = sampleInfo[rownames(sampleFold.Table),]\n",
    "head(sampleFold.Table)"
   ]
  },
  {
   "cell_type": "code",
   "execution_count": null,
   "metadata": {
    "vscode": {
     "languageId": "r"
    }
   },
   "outputs": [],
   "source": [
    "cell_types <- colnames(sampleFold.Table)\n",
    "combined_data <- data.frame()\n",
    "\n",
    "p_values <- data.frame()\n",
    "\n",
    "for (cell in cell_types) {\n",
    "  dataTmp <- data.frame(atten = sampleFold.Table[[cell]],\n",
    "                        group = sampleInfo$Age_group,\n",
    "                        age = sampleInfo$Age,\n",
    "                        cell_type = cell)\n",
    "  dataTmp_s <- na.omit(dataTmp)\n",
    "  combined_data <- rbind(combined_data, dataTmp_s)\n",
    "  \n",
    "  # Kruskal-Wallis\n",
    "  kw_test <- kruskal.test(atten ~ group, data = dataTmp_s)\n",
    "  p_values <- rbind(p_values, data.frame(cell_type = cell, p_value = kw_test$p.value))\n",
    "}\n",
    "\n",
    "combined_data <- merge(combined_data, p_values, by = \"cell_type\")\n",
    "\n",
    "box_plot <- ggplot(combined_data, aes(x = group, y = atten, fill = group)) +\n",
    "  geom_boxplot(alpha = 0.6, outlier.size = 0.5) +\n",
    "  labs(title = \"Boxplot: Atten by Age Group for All Cell Types\",\n",
    "       x = \"Age Group\", y = \"Atten\") +\n",
    "  theme_classic() +\n",
    "  theme(panel.grid = element_blank(),\n",
    "        axis.line = element_line(color = \"black\"),\n",
    "        strip.background = element_blank(),\n",
    "        strip.text = element_text(size = 10)) +\n",
    "  facet_wrap(~cell_type, scales = \"free\") +\n",
    "  geom_text(data = p_values, aes(x = 1.5, y = Inf, label = paste0(\"p = \", round(p_value, 3))),\n",
    "            vjust = 1.5, inherit.aes = FALSE)\n",
    "\n",
    "ggsave(\"./Plot/Attn_plot/boxplot_all.png\", box_plot, width = 15, height = 12)"
   ]
  }
 ],
 "metadata": {
  "kernelspec": {
   "display_name": "R",
   "language": "R",
   "name": "ir"
  },
  "language_info": {
   "codemirror_mode": "r",
   "file_extension": ".r",
   "mimetype": "text/x-r-source",
   "name": "R",
   "pygments_lexer": "r",
   "version": "4.4.0"
  }
 },
 "nbformat": 4,
 "nbformat_minor": 2
}
