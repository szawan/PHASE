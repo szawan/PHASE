{
 "cells": [
  {
   "cell_type": "code",
   "execution_count": null,
   "metadata": {
    "vscode": {
     "languageId": "r"
    }
   },
   "outputs": [],
   "source": [
    "library(tidyverse)\n",
    "library(ggplot2)\n",
    "library(ggthemes)\n",
    "library(patchwork)\n",
    "library(ggsci)\n",
    "library(ggvenn)\n",
    "library(ComplexHeatmap)\n",
    "library(RColorBrewer)\n",
    "library(ggbeeswarm)\n",
    "library(tidyr)\n",
    "library(circlize)\n",
    "library(fastcluster)\n",
    "library(magick)\n",
    "library(gridExtra)\n",
    "\n",
    "setwd(\"/home/wuqinhua/Project/PHASE/Age\")"
   ]
  },
  {
   "cell_type": "markdown",
   "metadata": {},
   "source": [
    "## 1. Attribution score top20 gene"
   ]
  },
  {
   "cell_type": "code",
   "execution_count": null,
   "metadata": {
    "vscode": {
     "languageId": "r"
    }
   },
   "outputs": [],
   "source": [
    "data <- read.table('./Analysis_result/Attr_result/attr_age_all.csv', header = TRUE, sep = ',', stringsAsFactors = FALSE)\n",
    "data <- subset(data[,-1])\n",
    "data <- data[order(data$attr_value, decreasing = TRUE),] \n",
    "top20 <- data[1:20, ]\n",
    "bottom20 = data[(nrow(data)-19):nrow(data), ]\n",
    "\n",
    "# the top 20 plot\n",
    "tp <- ggplot(top20, mapping = aes(x = reorder(gene_name, attr_value), y = attr_value)) +\n",
    "  geom_bar(stat = 'identity', fill = colorRampPalette(c(\"#006400\",\"#B3EE3A\"))(20), width = 0.78, position = position_dodge(0.7)) +\n",
    "  labs(x = \" \", y = 'Attribution score of top20 genes', fill = \"Gene\", size = 8, family = \"sans\", face = \"bold.italic\") +\n",
    "  coord_flip() +\n",
    "  theme_classic() +\n",
    "  theme(axis.text = element_text(family = \"sans\", size = 10, face = \"bold.italic\"))\n",
    "\n",
    "# the bottom 20 plot\n",
    "bp <- ggplot(bottom20, mapping = aes(x = reorder(gene_name, -attr_value), y = -attr_value)) +  # Flip y-axis\n",
    "  geom_bar(stat = 'identity', fill = colorRampPalette(c(\"#FFD700\",\"#EE7942\"))(20), width = 0.78, position = position_dodge(0.7)) +\n",
    "  labs(x = \" \", y = 'Attribution score of bottom20 genes', fill = \"Gene\", size = 8, family = \"sans\", face = \"bold.italic\") +\n",
    "  coord_flip() +\n",
    "  theme_classic() +\n",
    "  theme(axis.text = element_text(family = \"sans\", size = 10, face = \"bold.italic\"))\n",
    "\n",
    "combined_plot <- grid.arrange(bp, tp, ncol = 2)\n",
    "ggsave(\"./Plot/Attr_plot/Attr_top_bottom.pdf\", plot = combined_plot, width = 16, height = 7)\n"
   ]
  }
 ],
 "metadata": {
  "kernelspec": {
   "display_name": "R",
   "language": "R",
   "name": "ir"
  },
  "language_info": {
   "name": "R"
  }
 },
 "nbformat": 4,
 "nbformat_minor": 2
}
