{
 "cells": [
  {
   "cell_type": "code",
   "execution_count": 2,
   "id": "c9fac1cd",
   "metadata": {
    "vscode": {
     "languageId": "r"
    }
   },
   "outputs": [
    {
     "name": "stderr",
     "output_type": "stream",
     "text": [
      "── \u001b[1mAttaching core tidyverse packages\u001b[22m ──────────────────────── tidyverse 2.0.0 ──\n",
      "\u001b[32m✔\u001b[39m \u001b[34mdplyr    \u001b[39m 1.1.3     \u001b[32m✔\u001b[39m \u001b[34mreadr    \u001b[39m 2.1.4\n",
      "\u001b[32m✔\u001b[39m \u001b[34mforcats  \u001b[39m 1.0.0     \u001b[32m✔\u001b[39m \u001b[34mstringr  \u001b[39m 1.5.0\n",
      "\u001b[32m✔\u001b[39m \u001b[34mggplot2  \u001b[39m 3.4.4     \u001b[32m✔\u001b[39m \u001b[34mtibble   \u001b[39m 3.2.1\n",
      "\u001b[32m✔\u001b[39m \u001b[34mlubridate\u001b[39m 1.9.3     \u001b[32m✔\u001b[39m \u001b[34mtidyr    \u001b[39m 1.3.0\n",
      "\u001b[32m✔\u001b[39m \u001b[34mpurrr    \u001b[39m 1.0.2     \n",
      "── \u001b[1mConflicts\u001b[22m ────────────────────────────────────────── tidyverse_conflicts() ──\n",
      "\u001b[31m✖\u001b[39m \u001b[34mdplyr\u001b[39m::\u001b[32mfilter()\u001b[39m masks \u001b[34mstats\u001b[39m::filter()\n",
      "\u001b[31m✖\u001b[39m \u001b[34mdplyr\u001b[39m::\u001b[32mlag()\u001b[39m    masks \u001b[34mstats\u001b[39m::lag()\n",
      "\u001b[36mℹ\u001b[39m Use the conflicted package (\u001b[3m\u001b[34m<http://conflicted.r-lib.org/>\u001b[39m\u001b[23m) to force all conflicts to become errors\n",
      "Loading required package: grid\n",
      "\n",
      "========================================\n",
      "ComplexHeatmap version 2.18.0\n",
      "Bioconductor page: http://bioconductor.org/packages/ComplexHeatmap/\n",
      "Github page: https://github.com/jokergoo/ComplexHeatmap\n",
      "Documentation: http://jokergoo.github.io/ComplexHeatmap-reference\n",
      "\n",
      "If you use it in published research, please cite either one:\n",
      "- Gu, Z. Complex Heatmap Visualization. iMeta 2022.\n",
      "- Gu, Z. Complex heatmaps reveal patterns and correlations in multidimensional \n",
      "    genomic data. Bioinformatics 2016.\n",
      "\n",
      "\n",
      "The new InteractiveComplexHeatmap package can directly export static \n",
      "complex heatmaps into an interactive Shiny app with zero effort. Have a try!\n",
      "\n",
      "This message can be suppressed by:\n",
      "  suppressPackageStartupMessages(library(ComplexHeatmap))\n",
      "========================================\n",
      "\n",
      "\n",
      "========================================\n",
      "circlize version 0.4.15\n",
      "CRAN page: https://cran.r-project.org/package=circlize\n",
      "Github page: https://github.com/jokergoo/circlize\n",
      "Documentation: https://jokergoo.github.io/circlize_book/book/\n",
      "\n",
      "If you use it in published research, please cite:\n",
      "Gu, Z. circlize implements and enhances circular visualization\n",
      "  in R. Bioinformatics 2014.\n",
      "\n",
      "This message can be suppressed by:\n",
      "  suppressPackageStartupMessages(library(circlize))\n",
      "========================================\n",
      "\n",
      "\n",
      "\n",
      "Attaching package: ‘fastcluster’\n",
      "\n",
      "\n",
      "The following object is masked from ‘package:stats’:\n",
      "\n",
      "    hclust\n",
      "\n",
      "\n"
     ]
    },
    {
     "ename": "ERROR",
     "evalue": "Error in library(magick): there is no package called ‘magick’\n",
     "output_type": "error",
     "traceback": [
      "Error in library(magick): there is no package called ‘magick’\nTraceback:\n",
      "1. library(magick)"
     ]
    }
   ],
   "source": [
    "library(tidyverse)\n",
    "library(ggplot2)\n",
    "library(ggthemes)\n",
    "library(patchwork)\n",
    "library(ggsci)\n",
    "library(ggvenn)\n",
    "library(ComplexHeatmap)\n",
    "library(RColorBrewer)\n",
    "library(ggbeeswarm)\n",
    "library(tidyr)\n",
    "library(circlize)\n",
    "library(fastcluster)\n",
    "library(magick)\n"
   ]
  },
  {
   "cell_type": "code",
   "execution_count": null,
   "id": "007ed702",
   "metadata": {
    "vscode": {
     "languageId": "r"
    }
   },
   "outputs": [],
   "source": [
    "setwd(\"/data/wuqinhua/phase/covid19\")"
   ]
  },
  {
   "cell_type": "markdown",
   "id": "ac011ace",
   "metadata": {},
   "source": [
    "## 1. Attribution score top20 gene"
   ]
  },
  {
   "cell_type": "code",
   "execution_count": 7,
   "id": "34b52e26",
   "metadata": {
    "vscode": {
     "languageId": "r"
    }
   },
   "outputs": [],
   "source": [
    "covid_H = read.table('./Analysis_result/Attr_result/attr_H_PHASE.csv', header = TRUE,  sep = ',',  stringsAsFactors = FALSE)\n",
    "covid_H = subset(covid_H[,-1])\n",
    "covid_H <- covid_H[order(covid_H$attr_value, decreasing = TRUE),]\n",
    "H_top20 <- covid_H[1:20, ]\n",
    "colors <- colorRampPalette(c(\"#B3EE3A\",\"#006400\"))(20)#\n",
    "p1 = ggplot(H_top20, mapping = aes(x = reorder(gene_name,attr_value), y = attr_value)) +\n",
    "  geom_bar(stat = 'identity',fill=colors,width=0.78,position =position_dodge(0.7)) +\n",
    "  labs(x= \" \",y=\"Covid19_H Attribution Score\", fill = \"gene_name\",size=8,family = \"sans\", face = \"bold.italic\") +\n",
    "  coord_flip()+\n",
    "  geom_text(aes(label = sprintf(\"%.3f\",attr_value)),size =3,hjust = ifelse(H_top20$attr_value < 0,0,1))+\n",
    "  scale_fill_manual(name = \"Gene\",values = colors) +\n",
    "  theme_classic() +\n",
    "  theme(axis.text = element_text(family = \"sans\",size = 10, face = \"bold.italic\"))\n",
    "#ggsave('./plot/top20_H.png',p1,width =6,height=8)\n",
    "\n",
    "covid_M = read.table('./Analysis_resultAttr_result/attr_M_PHASE.csv', header = TRUE,  sep = ',',  stringsAsFactors = FALSE)\n",
    "covid_M = subset(covid_M[,-1])\n",
    "covid_M <- covid_M[order(covid_M$attr_value, decreasing = TRUE),]\n",
    "M_top20 <- covid_M[1:20, ]\n",
    "colors <- colorRampPalette(c(\"#87CEFA\",\"#1C86EE\"))(20)#\n",
    "p2 <- ggplot(M_top20, mapping = aes(x = reorder(gene_name,attr_value), y = attr_value)) +\n",
    "  geom_bar(stat = 'identity',fill=colors,width=0.78,position =position_dodge(0.7)) +\n",
    "  labs(x= \" \",y=\"Covid19_M Attribution Score\", fill = \"gene_name\",size=8,family = \"sans\", face = \"bold.italic\") +\n",
    "  coord_flip()+\n",
    "  geom_text(aes(label = sprintf(\"%.3f\",attr_value)),size =3,hjust = ifelse(M_top20$attr_value < 0,0,1))+\n",
    "  scale_fill_manual(name = \"Gene\",values = colors) +\n",
    "  theme_classic() +\n",
    "  theme(axis.text = element_text(family = \"sans\",size = 10, face = \"bold.italic\"))\n",
    "#ggsave('./plot/top20_M.png',p2,width =6,height=8)\n",
    "\n",
    "covid_S = read.table('./Analysis_result/Attr_result/attr_S_PHASE.csv', header = TRUE,  sep = ',',  stringsAsFactors = FALSE)\n",
    "covid_S = subset(covid_S[,-1])\n",
    "covid_S <- covid_S[order(covid_S$attr_value, decreasing = TRUE),]\n",
    "S_top20 <- covid_S[1:20, ]\n",
    "colors <- colorRampPalette(c(\"#FFD700\",\"#EE7942\"))(20)#\n",
    "p3 <- ggplot(S_top20, mapping = aes(x = reorder(gene_name,attr_value), y = attr_value)) +\n",
    "  geom_bar(stat = 'identity',fill=colors,width=0.78,position =position_dodge(0.7)) +\n",
    "  labs(x= \" \",y=\"Covid19_S Attribution Score\", fill = \"gene_name\",size=8,family = \"sans\", face = \"bold.italic\") +\n",
    "  coord_flip()+\n",
    "  geom_text(aes(label = sprintf(\"%.3f\",attr_value)),size =3,hjust = ifelse(S_top20$attr_value < 0,0,1))+\n",
    "  scale_fill_manual(name = \"Gene\",values = colors) +\n",
    "  theme_classic() +\n",
    "  theme(axis.text = element_text(family = \"sans\",size = 10, face = \"bold.italic\"))\n",
    "#ggsave('./plot/top20_S.png',p3,width =6,height=8)\n",
    "\n",
    "p = p1+p2+p3\n",
    "ggsave('./Plot/Attr_plot/top20_all.pdf',p,width =18,height=8)"
   ]
  },
  {
   "cell_type": "markdown",
   "id": "34c9e3fa",
   "metadata": {},
   "source": [
    "## 2. venn plot of H-M-S"
   ]
  },
  {
   "cell_type": "code",
   "execution_count": 4,
   "id": "fc9e4567",
   "metadata": {
    "vscode": {
     "languageId": "r"
    }
   },
   "outputs": [
    {
     "data": {
      "image/png": "[encoded data removed]",
      "text/plain": [
       "plot without title"
      ]
     },
     "metadata": {
      "image/png": {
       "height": 420,
       "width": 420
      }
     },
     "output_type": "display_data"
    }
   ],
   "source": [
    "covid_H = read.table('./Analysis_result/Attr_result/attr_H_PHASE.csv', header = TRUE,  sep = ',',  stringsAsFactors = FALSE)\n",
    "covid_H = subset(covid_H[,-1])\n",
    "covid_H <- covid_H[order(covid_H$attr_value, decreasing = TRUE),]\n",
    "H_genes <- covid_H[1:20, 1]\n",
    "covid_M = read.table('./Analysis_result/Attr_result/attr_M_PHASE.csv', header = TRUE,  sep = ',',  stringsAsFactors = FALSE)\n",
    "covid_M = subset(covid_M[,-1])\n",
    "covid_M <- covid_M[order(covid_M$attr_value, decreasing = TRUE),]\n",
    "M_genes <- covid_M[1:20, 1]\n",
    "covid_S = read.table('./Analysis_result/Attr_result/attr_S_PHASE.csv', header = TRUE,  sep = ',',  stringsAsFactors = FALSE)\n",
    "covid_S = subset(covid_S[,-1])\n",
    "covid_S <- covid_S[order(covid_S$attr_value, decreasing = TRUE),]\n",
    "S_genes <- covid_S[1:20, 1]\n",
    "dat = list(H_Top20_genes=H_genes, M_Top20_genes=M_genes, S_Top20_genes=S_genes)\n",
    "p1 <- ggvenn(dat,show_percentage = F,stroke_color = \"white\",stroke_size = 1.5,\n",
    "             fill_color = c(\"#B4EEB4\", \"#BFEFFF\", \"#FFCC66\"),\n",
    "             set_name_size = 5,text_size=5)\n",
    "p1\n",
    "ggsave(\"./Plot/Attr_plot/ggvenn_top20.pdf\", p1, width=5, height=5)\n",
    "\n",
    "unique_H_genes <- setdiff(H_genes, c(M_genes, S_genes))\n",
    "unique_M_genes <- setdiff(M_genes, c(H_genes, S_genes))\n",
    "unique_S_genes <- setdiff(S_genes, c(H_genes, M_genes))\n",
    "\n",
    "# 将结果保存到数据框中，确保每列长度一致\n",
    "max_length <- max(length(unique_H_genes), length(unique_M_genes), length(unique_S_genes))\n",
    "unique_H_genes <- c(unique_H_genes, rep(NA, max_length - length(unique_H_genes)))\n",
    "unique_M_genes <- c(unique_M_genes, rep(NA, max_length - length(unique_M_genes)))\n",
    "unique_S_genes <- c(unique_S_genes, rep(NA, max_length - length(unique_S_genes)))\n",
    "\n",
    "gene_unique <- data.frame(H=unique_H_genes, M=unique_M_genes, S=unique_S_genes)\n",
    "write.csv(gene_unique, file = \"./Plot/Attr_plot/unique_Topgenes_venn.csv\", row.names = FALSE)\n"
   ]
  },
  {
   "cell_type": "markdown",
   "id": "0a908d27",
   "metadata": {},
   "source": [
    "## 3. Heatmap of top20 gene attribution score"
   ]
  },
  {
   "cell_type": "code",
   "execution_count": null,
   "id": "e7ecacf5",
   "metadata": {
    "vscode": {
     "languageId": "r"
    }
   },
   "outputs": [],
   "source": [
    "combined_genes <- union(union(H_top20$gene_name, M_top20$gene_name), S_top20$gene_name)\n",
    "unique_genes <- unique(combined_genes)\n",
    "\n",
    "data = read.csv('./Analysis_result/Attr_result/attr_sample_PHASE.csv',row.names = 1)\n",
    "selected_columns <- names(data) %in% unique_genes\n",
    "all_top20 = data[, selected_columns, drop = FALSE]\n",
    "all_top20 = as.matrix(all_top20)\n",
    "all_top20 <- apply(all_top20, 2, function(x) (x - min(x)) / (max(x) - min(x)))\n",
    "all_top20\n",
    "\n",
    "condition = read.csv('./COVID19_sample_condition_560.csv')\n",
    "rownames(condition) <- gsub(\"\\\\.\", \"_\", rownames(condition))\n",
    "dict1 <- setNames(condition$group, condition$sample_id)\n",
    "dict2 <- setNames(condition$Source, condition$sample_id)\n",
    "\n",
    "group = c()\n",
    "dataset = c()\n",
    "for (i in seq_along(row.names(all_top20))){\n",
    "  row_name <- row.names(all_top20)[i]\n",
    "  g <- dict1[row_name]\n",
    "  group[i] <- g\n",
    "  d <- dict2[row_name]\n",
    "  dataset[i] <- d\n",
    "  }\n",
    "df <- data.frame(group, dataset)\n",
    "expData = t(scale(t(all_top20)))\n",
    "expData = pmax(pmin(expData,2),-2)\n",
    "\n",
    "col_fun = colorRamp2(c(-2,-1,0,1,2),rev(brewer.pal(n = 5, name = \"RdBu\")))\n",
    "\n",
    "left_ha = rowAnnotation(Cluster = df$group,Dataset = df$dataset, simple_anno_size = unit(8,'points'),\n",
    "                        col = list(Cluster = c(\"H\" = '#66DD00',\"M\"=\"#77DDFF\",\"S\"=\"#FFBB66\"),\n",
    "                                   Dataset = c(\"Arunachalam_2020\"=\"#377EB8\",\"COMBAT_2022\"=\"darkorchid1\",\"Combes_2021\"=\"#A6D854\",\n",
    "                                               \"Liu_2021\"=\"#66C2A5\",\"Ren_2021\"=\"#0000C6\",\"Schulte-Schrepping_2020\"=\"khaki2\",\n",
    "                                               \"Schuurman_2021\"=\"#4DAF4A\",\"Stephenson_2021\"=\"#999999\",\"Unterman_2022\"=\"#984EA3\",\n",
    "                                               \"Wilk_2021\"=\"#E5C494\",\"Zhao_2021\"=\"#E41A1C\",\"Zhu_2020\"=\"#8DA0CB\")),\n",
    "                        show_annotation_name = F)\n",
    "\n",
    "fh = function(x) fastcluster::hclust(dist(x),\"ave\")\n",
    "\n",
    "pdf('./Plot/Attr_plot/heatmap_attr_ave.pdf',width = 6,height = 6)\n",
    "Heatmap(expData,\n",
    "        show_row_names = F,show_column_names = F,\n",
    "        show_row_dend = T,show_column_dend = T,\n",
    "        cluster_rows = fh,cluster_columns = fh,\n",
    "        col = col_fun,\n",
    "        row_title = NULL,column_title = NULL,\n",
    "        heatmap_legend_param = list(title = ''),\n",
    "        top_annotation = NULL,\n",
    "        left_annotation = left_ha,\n",
    "        right_annotation = NULL,\n",
    "        use_raster = TRUE, raster_quality = 2)\n",
    "dev.off()"
   ]
  },
  {
   "cell_type": "markdown",
   "id": "bc5d06e5",
   "metadata": {},
   "source": [
    "## 4. Heatmap of top20 gene expression level"
   ]
  },
  {
   "cell_type": "code",
   "execution_count": null,
   "id": "6cac0d55",
   "metadata": {
    "vscode": {
     "languageId": "r"
    }
   },
   "outputs": [],
   "source": [
    "import os\n",
    "import numpy as np\n",
    "import pandas as pd\n",
    "import scanpy as sc\n",
    "import scipy.sparse\n",
    "\n",
    "os.chdir(\"/data/wuqinhua/phase/covid19\")"
   ]
  },
  {
   "cell_type": "code",
   "execution_count": null,
   "id": "0acaa9ee",
   "metadata": {
    "vscode": {
     "languageId": "r"
    }
   },
   "outputs": [],
   "source": [
    "sce = sc.read_h5ad(\"./Alldata_hvg.h5ad\")\n",
    "raw_matrix = sce.raw.X.tocsr() if not scipy.sparse.isspmatrix_csr(sce.raw.X) else sce.raw.X\n",
    "raw_df = pd.DataFrame.sparse.from_spmatrix(\n",
    "        raw_matrix,\n",
    "        index=sce.obs_names,      \n",
    "        columns=sce.raw.var_names  \n",
    ")"
   ]
  },
  {
   "cell_type": "code",
   "execution_count": null,
   "id": "504d73f4",
   "metadata": {
    "vscode": {
     "languageId": "r"
    }
   },
   "outputs": [],
   "source": [
    "raw_df['sample_id'] = sce.obs['sample_id'].values\n",
    "sample_gene_expression = raw_df.groupby('sample_id').sum()\n",
    "hvg_genes = sce.var[sce.var['highly_variable']].index.tolist()\n",
    "hvg_df = sample_gene_expression[hvg_genes]\n",
    "hvg_df.to_csv(\"./Analysis_result/Attr_result/exp_sample_PHASE.csv\")"
   ]
  },
  {
   "cell_type": "code",
   "execution_count": null,
   "id": "3d7a8083",
   "metadata": {
    "vscode": {
     "languageId": "r"
    }
   },
   "outputs": [],
   "source": [
    "library(tidyverse)\n",
    "library(ggplot2)\n",
    "library(ggthemes)\n",
    "library(patchwork)\n",
    "library(ggsci)\n",
    "library(ggvenn)\n",
    "library(ComplexHeatmap)\n",
    "library(RColorBrewer)\n",
    "library(ggbeeswarm)\n",
    "library(tidyr)\n",
    "library(circlize)\n",
    "library(fastcluster)\n",
    "library(magick)\n",
    "\n",
    "setwd(\"/data/wuqinhua/phase/covid19\")"
   ]
  },
  {
   "cell_type": "code",
   "execution_count": null,
   "id": "3ca141ab",
   "metadata": {
    "vscode": {
     "languageId": "r"
    }
   },
   "outputs": [],
   "source": [
    "covid_H = read.table('./Analysis_result/Attr_result/attr_H_PHASE.csv', header = TRUE,  sep = ',',  stringsAsFactors = FALSE)\n",
    "covid_H = subset(covid_H[,-1])\n",
    "covid_H <- covid_H[order(covid_H$attr_value, decreasing = TRUE),]\n",
    "H_top20 <- covid_H[1:20, ]\n",
    "covid_M = read.table('./Attr_result/attr_M_PHASE.csv', header = TRUE,  sep = ',',  stringsAsFactors = FALSE)\n",
    "covid_M = subset(covid_M[,-1])\n",
    "covid_M <- covid_M[order(covid_M$attr_value, decreasing = TRUE),]\n",
    "M_top20 <- covid_M[1:20, ]\n",
    "covid_S = read.table('./Attr_result/attr_S_PHASE.csv', header = TRUE,  sep = ',',  stringsAsFactors = FALSE)\n",
    "covid_S = subset(covid_S[,-1])\n",
    "covid_S <- covid_S[order(covid_S$attr_value, decreasing = TRUE),]\n",
    "S_top20 <- covid_S[1:20, ]"
   ]
  },
  {
   "cell_type": "code",
   "execution_count": null,
   "id": "b22d1854",
   "metadata": {
    "vscode": {
     "languageId": "r"
    }
   },
   "outputs": [],
   "source": [
    "combined_genes <- union(union(H_top20$gene_name, M_top20$gene_name), S_top20$gene_name)\n",
    "unique_genes <- unique(combined_genes)\n",
    "data = read.csv('./Analysis_result/Attr_result/exp_sample_PHASE.csv',row.names = 1)\n",
    "selected_columns <- names(data) %in% unique_genes\n",
    "all_top20 = data[, selected_columns, drop = FALSE]\n",
    "all_top20 = as.matrix(all_top20)\n",
    "all_top20 <- apply(all_top20, 2, function(x) (x - min(x)) / (max(x) - min(x)))\n",
    "all_top20\n",
    "\n",
    "condition = read.csv('./COVID19_sample_condition_560.csv')  \n",
    "rownames(condition) <- gsub(\"\\\\.\", \"_\", rownames(condition))\n",
    "dict1 <- setNames(condition$group, condition$sample_id)\n",
    "dict2 <- setNames(condition$Source, condition$sample_id)\n",
    "\n",
    "group = c()\n",
    "dataset = c()\n",
    "for (i in seq_along(row.names(all_top20))){\n",
    "  row_name <- row.names(all_top20)[i]\n",
    "  g <- dict1[row_name]\n",
    "  group[i] <- g\n",
    "  d <- dict2[row_name]\n",
    "  dataset[i] <- d\n",
    "  }\n",
    "df <- data.frame(group, dataset)\n",
    "\n",
    "expData = t(scale(t(all_top20)))\n",
    "expData = pmax(pmin(expData,2),-2)\n",
    "\n",
    "col_fun = colorRamp2(c(-2,-1,0,1,2),rev(brewer.pal(n = 5, name = \"RdBu\")))\n",
    "\n",
    "left_ha = rowAnnotation(Cluster = df$group,Dataset = df$dataset, simple_anno_size = unit(8,'points'),\n",
    "                        col = list(Cluster = c(\"H\" = '#66DD00',\"M\"=\"#77DDFF\",\"S\"=\"#FFBB66\"),\n",
    "                                   Dataset = c(\"Arunachalam_2020\"=\"#377EB8\",\"COMBAT_2022\"=\"darkorchid1\",\"Combes_2021\"=\"#A6D854\",\n",
    "                                               \"Liu_2021\"=\"#66C2A5\",\"Ren_2021\"=\"#0000C6\",\"Schulte-Schrepping_2020\"=\"khaki2\",\n",
    "                                               \"Schuurman_2021\"=\"#4DAF4A\",\"Stephenson_2021\"=\"#999999\",\"Unterman_2022\"=\"#984EA3\",\n",
    "                                               \"Wilk_2021\"=\"#E5C494\",\"Zhao_2021\"=\"#E41A1C\",\"Zhu_2020\"=\"#8DA0CB\")),\n",
    "                        show_annotation_name = F)\n",
    "\n",
    "fh = function(x) fastcluster::hclust(dist(x),\"ave\")\n",
    "\n",
    "pdf('./Plot/Attr_plot/heatmap_exp_ave.pdf',width = 6,height = 6)\n",
    "Heatmap(expData,\n",
    "        show_row_names = F,show_column_names = F,\n",
    "        show_row_dend = T,show_column_dend = T,\n",
    "        cluster_rows = fh,cluster_columns = fh,\n",
    "        col = col_fun,\n",
    "        row_title = NULL,column_title = NULL,\n",
    "        heatmap_legend_param = list(title = ''),\n",
    "        top_annotation = NULL,\n",
    "        left_annotation = left_ha,\n",
    "        right_annotation = NULL,\n",
    "        use_raster = TRUE, raster_quality = 2)\n",
    "dev.off()"
   ]
  },
  {
   "cell_type": "code",
   "execution_count": null,
   "id": "eb50d446",
   "metadata": {
    "vscode": {
     "languageId": "r"
    }
   },
   "outputs": [],
   "source": []
  }
 ],
 "metadata": {
  "kernelspec": {
   "display_name": "R",
   "language": "R",
   "name": "ir"
  },
  "language_info": {
   "codemirror_mode": "r",
   "file_extension": ".r",
   "mimetype": "text/x-r-source",
   "name": "R",
   "pygments_lexer": "r",
   "version": "3.6.1"
  }
 },
 "nbformat": 4,
 "nbformat_minor": 5
}
