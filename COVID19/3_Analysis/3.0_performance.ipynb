{
 "cells": [
  {
   "cell_type": "markdown",
   "metadata": {},
   "source": [
    "## 1.Benchmark"
   ]
  },
  {
   "cell_type": "code",
   "execution_count": null,
   "metadata": {
    "vscode": {
     "languageId": "r"
    }
   },
   "outputs": [],
   "source": [
    "rm(list = ls())\n",
    "setwd(\"/data/wuqinhua/phase/covid19/\")\n",
    "library(ggplot2)\n",
    "library(dplyr)"
   ]
  },
  {
   "cell_type": "code",
   "execution_count": 4,
   "metadata": {
    "vscode": {
     "languageId": "r"
    }
   },
   "outputs": [
    {
     "name": "stderr",
     "output_type": "stream",
     "text": [
      "\u001b[1m\u001b[22m`summarise()` has grouped output by 'Performance'. You can override using the\n",
      "`.groups` argument.\n"
     ]
    }
   ],
   "source": [
    "data <- read.csv(\"./Performance.csv\")\n",
    "\n",
    "avg_value_phase_ours <- data %>%\n",
    "  group_by(Performance, Model) %>%\n",
    "  filter(Model == 'PHASE(ours)') %>%\n",
    "  summarise(avg_value = mean(value))\n",
    "\n",
    "p2 <- ggplot(data, aes(Model, value, fill = Model))+\n",
    "  geom_boxplot(linewidth = 0.4,outlier.shape = NA)+\n",
    "  facet_grid(~Performance)+ \n",
    "  theme_bw()+\n",
    "  theme(axis.text.x = element_text(angle = 45, hjust = 1, size=10, color = \"#204056\"),  \n",
    "        axis.text.y = element_text(size=12, color = \"#204056\"), \n",
    "        strip.text = element_text(size=14, face=\"bold\"),  \n",
    "        axis.title = element_blank(),       \n",
    "        panel.grid = element_blank()) + \n",
    "\n",
    "  scale_fill_manual(values = c('#92B4C8',\"#ABD3E1\", \"#E3EDE0\", \"#FFE9BE\", \"#FAC795\", \"#EEA599\"))+\n",
    "  geom_text(data = avg_value_phase_ours,\n",
    "            aes(x = 'PHASE(ours)', y = avg_value,\n",
    "                label = round(avg_value, 3)),\n",
    "            vjust = -4, size = 6, color = \"black\")\n",
    "\n",
    "# ggsave(\"./Plot/performance.pdf\",p2,width=14,height=4)"
   ]
  },
  {
   "cell_type": "markdown",
   "metadata": {},
   "source": [
    "## 2.Sample_embedding Clustering"
   ]
  },
  {
   "cell_type": "code",
   "execution_count": null,
   "metadata": {
    "vscode": {
     "languageId": "r"
    }
   },
   "outputs": [],
   "source": [
    "import os\n",
    "import pandas as pd\n",
    "from sklearn.decomposition import PCA\n",
    "import matplotlib.pyplot as plt\n",
    "import matplotlib.patches as mpatches\n",
    "import numpy as np\n",
    "from matplotlib.patches import Ellipse\n",
    "\n",
    "os.chdir(\"/data/wuqinhua/phase/covid19\")"
   ]
  },
  {
   "cell_type": "code",
   "execution_count": null,
   "metadata": {
    "vscode": {
     "languageId": "r"
    }
   },
   "outputs": [],
   "source": [
    "df_attention_matrices = pd.read_csv(\"./Model_result/sample_embedding.csv\", index_col=0)\n",
    "\n",
    "df = pd.read_csv('./COVID19_sample_condition_560.csv')\n",
    "df_sample_group = df[['sample_id', 'group']] \n",
    "df_sample_group.set_index('sample_id', inplace=True)\n",
    "\n",
    "merged_data = df_attention_matrices.join(df_sample_group)\n",
    "attention_matrix_data = merged_data.iloc[:, :-1].values \n",
    "groups = merged_data['group'].values\n",
    "\n",
    "pca = PCA(n_components=2)  \n",
    "reduced_data = pca.fit_transform(attention_matrix_data)\n",
    "\n",
    "\n",
    "group_color_map = {'H': ('#B3EE3A', '#E6F5C9'), 'M': ('#87CEFA', '#E0FFFF'), 'S': ('#FFD700', '#FFEFD5')}\n",
    "\n",
    "plt.figure(figsize=(12, 10))\n",
    "plt.gca().set_facecolor('white')\n",
    "plt.grid(False)  \n",
    "\n",
    "plt.xlabel('Principal Component 1', fontsize=14)\n",
    "plt.ylabel('Principal Component 2', fontsize=14)\n",
    "plt.title('PCA of sample embedding by Group')\n",
    "\n",
    "for group, data in merged_data.groupby('group'):\n",
    "    group_data = pca.transform(data.iloc[:, :-1].values)\n",
    "    min_x, min_y = group_data.min(axis=0)\n",
    "    max_x, max_y = group_data.max(axis=0)\n",
    "    center_x, center_y = (max_x + min_x) / 2, (max_y + min_y) / 2\n",
    "    width, height = (max_x - min_x) * 1.1, (max_y - min_y) * 1.1  \n",
    "    ellipse = Ellipse(xy=(center_x, center_y), width=width, height=height, edgecolor='none', facecolor=group_color_map[group][1], alpha=0.25)\n",
    "    plt.gca().add_patch(ellipse)\n",
    "\n",
    "for group in np.unique(groups):\n",
    "    idx = np.where(groups == group)\n",
    "    plt.scatter(reduced_data[idx, 0], reduced_data[idx, 1], c=group_color_map[group][0], label=group, edgecolor='none')\n",
    "\n",
    "legend_handles = [mpatches.Patch(color=group_color_map[group][0], label=group) for group in group_color_map]\n",
    "plt.legend(handles=legend_handles, title=\"Groups\", loc='upper right', fontsize=12, title_fontsize=14)\n",
    "plt.savefig(\"./Plot/sample_embedding_PCA.pdf\")\n",
    "plt.show()"
   ]
  }
 ],
 "metadata": {
  "kernelspec": {
   "display_name": "R",
   "language": "R",
   "name": "ir"
  },
  "language_info": {
   "codemirror_mode": "r",
   "file_extension": ".r",
   "mimetype": "text/x-r-source",
   "name": "R",
   "pygments_lexer": "r",
   "version": "3.10.14"
  }
 },
 "nbformat": 4,
 "nbformat_minor": 2
}
