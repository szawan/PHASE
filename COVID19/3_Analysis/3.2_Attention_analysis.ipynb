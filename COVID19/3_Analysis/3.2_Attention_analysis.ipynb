{
 "cells": [
  {
   "cell_type": "code",
   "execution_count": 1,
   "metadata": {
    "vscode": {
     "languageId": "r"
    }
   },
   "outputs": [],
   "source": [
    "import os\n",
    "import sys\n",
    "import scipy\n",
    "import numpy as np\n",
    "import pandas as pd\n",
    "import scanpy as sc\n",
    "import seaborn as sns\n",
    "import scipy.io as sio\n",
    "import anndata as ad\n",
    "import matplotlib.pyplot as plt\n",
    "\n",
    "os.chdir(\"/data/wuqinhua/phase/covid19\")"
   ]
  },
  {
   "cell_type": "markdown",
   "metadata": {},
   "source": [
    "# 1. Cell-level"
   ]
  },
  {
   "cell_type": "code",
   "execution_count": 2,
   "metadata": {
    "vscode": {
     "languageId": "r"
    }
   },
   "outputs": [],
   "source": [
    "attnData = pd.read_csv(\"./Analysis_result/Attn_result/attn_cell_PHASE.csv\")"
   ]
  },
  {
   "cell_type": "code",
   "execution_count": 3,
   "metadata": {
    "vscode": {
     "languageId": "r"
    }
   },
   "outputs": [],
   "source": [
    "idList = attnData['sample_id'].unique()\n",
    "for id in idList:\n",
    "    attnTmp = attnData[attnData['sample_id'] == id]\n",
    "    avgScore = 1 / len(attnTmp)\n",
    "    log_attn = np.log2(attnTmp['attn'] / avgScore)\n",
    "    attn_scaled = (log_attn - np.mean(log_attn)) / np.std(log_attn)\n",
    "    attn_scaled_clipped = np.clip(attn_scaled, -1, 1)\n",
    "    attnData.loc[attnData['sample_id'] == id, 'attn_scaled'] = log_attn\n"
   ]
  },
  {
   "cell_type": "code",
   "execution_count": 4,
   "metadata": {
    "vscode": {
     "languageId": "r"
    }
   },
   "outputs": [
    {
     "data": {
      "text/plain": [
       "AnnData object with n_obs × n_vars = 2540586 × 5000\n",
       "    obs: 'batch', 'sample_id', 'group', 'n_genes', 'n_genes_by_counts', 'total_counts', 'total_counts_MT', 'pct_counts_MT', 'leiden', 'predicted_labels', 'over_clustering', 'majority_voting'\n",
       "    var: 'n_cells_by_counts', 'mean_counts', 'pct_dropout_by_counts', 'total_counts', 'highly_variable', 'means', 'dispersions', 'dispersions_norm', 'highly_variable_nbatches', 'highly_variable_intersection', 'mean', 'std'\n",
       "    uns: 'hvg', 'leiden', 'leiden_colors', 'log1p', 'majority_voting_colors', 'neighbors', 'pca', 'predicted_labels_colors', 'sample_id_colors', 'umap'\n",
       "    obsm: 'X_pca', 'X_pca_harmony', 'X_umap'\n",
       "    varm: 'PCs'\n",
       "    obsp: 'connectivities', 'distances'"
      ]
     },
     "execution_count": 4,
     "metadata": {},
     "output_type": "execute_result"
    }
   ],
   "source": [
    "adata = ad.read_h5ad('./Alldata_anno.h5ad')\n",
    "adata"
   ]
  },
  {
   "cell_type": "code",
   "execution_count": 6,
   "metadata": {
    "vscode": {
     "languageId": "r"
    }
   },
   "outputs": [
    {
     "data": {
      "text/html": [
       "<div>\n",
       "<style scoped>\n",
       "    .dataframe tbody tr th:only-of-type {\n",
       "        vertical-align: middle;\n",
       "    }\n",
       "\n",
       "    .dataframe tbody tr th {\n",
       "        vertical-align: top;\n",
       "    }\n",
       "\n",
       "    .dataframe thead th {\n",
       "        text-align: right;\n",
       "    }\n",
       "</style>\n",
       "<table border=\"1\" class=\"dataframe\">\n",
       "  <thead>\n",
       "    <tr style=\"text-align: right;\">\n",
       "      <th></th>\n",
       "      <th>batch</th>\n",
       "      <th>sample_id</th>\n",
       "      <th>group</th>\n",
       "      <th>n_genes</th>\n",
       "      <th>n_genes_by_counts</th>\n",
       "      <th>total_counts</th>\n",
       "      <th>total_counts_MT</th>\n",
       "      <th>pct_counts_MT</th>\n",
       "      <th>leiden</th>\n",
       "      <th>predicted_labels</th>\n",
       "      <th>over_clustering</th>\n",
       "      <th>majority_voting</th>\n",
       "    </tr>\n",
       "  </thead>\n",
       "  <tbody>\n",
       "    <tr>\n",
       "      <th>AAACCCACATCTCAAG-1-Arunachalam2020-0</th>\n",
       "      <td>0</td>\n",
       "      <td>cov01</td>\n",
       "      <td>S</td>\n",
       "      <td>1032</td>\n",
       "      <td>1032</td>\n",
       "      <td>1839.0</td>\n",
       "      <td>140.0</td>\n",
       "      <td>7.612833499908447</td>\n",
       "      <td>4</td>\n",
       "      <td>NK_16hi</td>\n",
       "      <td>430</td>\n",
       "      <td>B_switched_memory</td>\n",
       "    </tr>\n",
       "    <tr>\n",
       "      <th>AAACGCTGTAGCTTGT-1-Arunachalam2020-0</th>\n",
       "      <td>0</td>\n",
       "      <td>cov01</td>\n",
       "      <td>S</td>\n",
       "      <td>1850</td>\n",
       "      <td>1850</td>\n",
       "      <td>5966.0</td>\n",
       "      <td>226.0</td>\n",
       "      <td>3.788132667541504</td>\n",
       "      <td>5</td>\n",
       "      <td>B_switched_memory</td>\n",
       "      <td>307</td>\n",
       "      <td>B_switched_memory</td>\n",
       "    </tr>\n",
       "    <tr>\n",
       "      <th>AAACGCTGTTTGACAC-1-Arunachalam2020-0</th>\n",
       "      <td>0</td>\n",
       "      <td>cov01</td>\n",
       "      <td>S</td>\n",
       "      <td>5905</td>\n",
       "      <td>5905</td>\n",
       "      <td>63097.0</td>\n",
       "      <td>3995.0</td>\n",
       "      <td>6.331521034240723</td>\n",
       "      <td>9</td>\n",
       "      <td>B_naive</td>\n",
       "      <td>597</td>\n",
       "      <td>Plasma_cell_IgG</td>\n",
       "    </tr>\n",
       "    <tr>\n",
       "      <th>AAAGAACCATCAGCAT-1-Arunachalam2020-0</th>\n",
       "      <td>0</td>\n",
       "      <td>cov01</td>\n",
       "      <td>S</td>\n",
       "      <td>726</td>\n",
       "      <td>726</td>\n",
       "      <td>1738.0</td>\n",
       "      <td>79.0</td>\n",
       "      <td>4.545454502105713</td>\n",
       "      <td>5</td>\n",
       "      <td>B_immature</td>\n",
       "      <td>136</td>\n",
       "      <td>B_naive</td>\n",
       "    </tr>\n",
       "    <tr>\n",
       "      <th>AAAGGATAGGCTATCT-1-Arunachalam2020-0</th>\n",
       "      <td>0</td>\n",
       "      <td>cov01</td>\n",
       "      <td>S</td>\n",
       "      <td>3960</td>\n",
       "      <td>3960</td>\n",
       "      <td>20807.0</td>\n",
       "      <td>1123.0</td>\n",
       "      <td>5.39722204208374</td>\n",
       "      <td>12</td>\n",
       "      <td>DC2</td>\n",
       "      <td>704</td>\n",
       "      <td>DC1</td>\n",
       "    </tr>\n",
       "    <tr>\n",
       "      <th>...</th>\n",
       "      <td>...</td>\n",
       "      <td>...</td>\n",
       "      <td>...</td>\n",
       "      <td>...</td>\n",
       "      <td>...</td>\n",
       "      <td>...</td>\n",
       "      <td>...</td>\n",
       "      <td>...</td>\n",
       "      <td>...</td>\n",
       "      <td>...</td>\n",
       "      <td>...</td>\n",
       "      <td>...</td>\n",
       "    </tr>\n",
       "    <tr>\n",
       "      <th>GACAAGCCTAGCTGCTCTTC_19-Zhu2020-11</th>\n",
       "      <td>11</td>\n",
       "      <td>COV-4-D16</td>\n",
       "      <td>M</td>\n",
       "      <td>569</td>\n",
       "      <td>569</td>\n",
       "      <td>901.0</td>\n",
       "      <td>8.0</td>\n",
       "      <td>0.8879023307436182</td>\n",
       "      <td>2</td>\n",
       "      <td>gdT</td>\n",
       "      <td>105</td>\n",
       "      <td>CD14_mono</td>\n",
       "    </tr>\n",
       "    <tr>\n",
       "      <th>AGACTGGAGCACGGCCTGTA_19-Zhu2020-11</th>\n",
       "      <td>11</td>\n",
       "      <td>COV-4-D16</td>\n",
       "      <td>M</td>\n",
       "      <td>592</td>\n",
       "      <td>592</td>\n",
       "      <td>1011.0</td>\n",
       "      <td>4.0</td>\n",
       "      <td>0.3956478733926805</td>\n",
       "      <td>3</td>\n",
       "      <td>CD4.CM</td>\n",
       "      <td>298</td>\n",
       "      <td>CD4.Naive</td>\n",
       "    </tr>\n",
       "    <tr>\n",
       "      <th>AGATGTATATCCGTGCAACC_19-Zhu2020-11</th>\n",
       "      <td>11</td>\n",
       "      <td>COV-4-D16</td>\n",
       "      <td>M</td>\n",
       "      <td>537</td>\n",
       "      <td>537</td>\n",
       "      <td>893.0</td>\n",
       "      <td>2.0</td>\n",
       "      <td>0.22396416573348266</td>\n",
       "      <td>0</td>\n",
       "      <td>CD4.Tfh</td>\n",
       "      <td>60</td>\n",
       "      <td>CD4.Naive</td>\n",
       "    </tr>\n",
       "    <tr>\n",
       "      <th>AGATGTATATCCATCGTGAC_19-Zhu2020-11</th>\n",
       "      <td>11</td>\n",
       "      <td>COV-4-D16</td>\n",
       "      <td>M</td>\n",
       "      <td>554</td>\n",
       "      <td>554</td>\n",
       "      <td>770.0</td>\n",
       "      <td>7.0</td>\n",
       "      <td>0.9090909090909091</td>\n",
       "      <td>4</td>\n",
       "      <td>NK_16hi</td>\n",
       "      <td>83</td>\n",
       "      <td>CD8.TE</td>\n",
       "    </tr>\n",
       "    <tr>\n",
       "      <th>CCGAGACGTATATGGCATAG_19-Zhu2020-11</th>\n",
       "      <td>11</td>\n",
       "      <td>COV-4-D16</td>\n",
       "      <td>M</td>\n",
       "      <td>722</td>\n",
       "      <td>722</td>\n",
       "      <td>1354.0</td>\n",
       "      <td>3.0</td>\n",
       "      <td>0.22156573116691286</td>\n",
       "      <td>3</td>\n",
       "      <td>CD4.Tfh</td>\n",
       "      <td>334</td>\n",
       "      <td>CD8.TE</td>\n",
       "    </tr>\n",
       "  </tbody>\n",
       "</table>\n",
       "<p>2540586 rows × 12 columns</p>\n",
       "</div>"
      ],
      "text/plain": [
       "                                     batch  sample_id group n_genes  \\\n",
       "AAACCCACATCTCAAG-1-Arunachalam2020-0     0      cov01     S    1032   \n",
       "AAACGCTGTAGCTTGT-1-Arunachalam2020-0     0      cov01     S    1850   \n",
       "AAACGCTGTTTGACAC-1-Arunachalam2020-0     0      cov01     S    5905   \n",
       "AAAGAACCATCAGCAT-1-Arunachalam2020-0     0      cov01     S     726   \n",
       "AAAGGATAGGCTATCT-1-Arunachalam2020-0     0      cov01     S    3960   \n",
       "...                                    ...        ...   ...     ...   \n",
       "GACAAGCCTAGCTGCTCTTC_19-Zhu2020-11      11  COV-4-D16     M     569   \n",
       "AGACTGGAGCACGGCCTGTA_19-Zhu2020-11      11  COV-4-D16     M     592   \n",
       "AGATGTATATCCGTGCAACC_19-Zhu2020-11      11  COV-4-D16     M     537   \n",
       "AGATGTATATCCATCGTGAC_19-Zhu2020-11      11  COV-4-D16     M     554   \n",
       "CCGAGACGTATATGGCATAG_19-Zhu2020-11      11  COV-4-D16     M     722   \n",
       "\n",
       "                                      n_genes_by_counts  total_counts  \\\n",
       "AAACCCACATCTCAAG-1-Arunachalam2020-0               1032        1839.0   \n",
       "AAACGCTGTAGCTTGT-1-Arunachalam2020-0               1850        5966.0   \n",
       "AAACGCTGTTTGACAC-1-Arunachalam2020-0               5905       63097.0   \n",
       "AAAGAACCATCAGCAT-1-Arunachalam2020-0                726        1738.0   \n",
       "AAAGGATAGGCTATCT-1-Arunachalam2020-0               3960       20807.0   \n",
       "...                                                 ...           ...   \n",
       "GACAAGCCTAGCTGCTCTTC_19-Zhu2020-11                  569         901.0   \n",
       "AGACTGGAGCACGGCCTGTA_19-Zhu2020-11                  592        1011.0   \n",
       "AGATGTATATCCGTGCAACC_19-Zhu2020-11                  537         893.0   \n",
       "AGATGTATATCCATCGTGAC_19-Zhu2020-11                  554         770.0   \n",
       "CCGAGACGTATATGGCATAG_19-Zhu2020-11                  722        1354.0   \n",
       "\n",
       "                                     total_counts_MT        pct_counts_MT  \\\n",
       "AAACCCACATCTCAAG-1-Arunachalam2020-0           140.0    7.612833499908447   \n",
       "AAACGCTGTAGCTTGT-1-Arunachalam2020-0           226.0    3.788132667541504   \n",
       "AAACGCTGTTTGACAC-1-Arunachalam2020-0          3995.0    6.331521034240723   \n",
       "AAAGAACCATCAGCAT-1-Arunachalam2020-0            79.0    4.545454502105713   \n",
       "AAAGGATAGGCTATCT-1-Arunachalam2020-0          1123.0     5.39722204208374   \n",
       "...                                              ...                  ...   \n",
       "GACAAGCCTAGCTGCTCTTC_19-Zhu2020-11               8.0   0.8879023307436182   \n",
       "AGACTGGAGCACGGCCTGTA_19-Zhu2020-11               4.0   0.3956478733926805   \n",
       "AGATGTATATCCGTGCAACC_19-Zhu2020-11               2.0  0.22396416573348266   \n",
       "AGATGTATATCCATCGTGAC_19-Zhu2020-11               7.0   0.9090909090909091   \n",
       "CCGAGACGTATATGGCATAG_19-Zhu2020-11               3.0  0.22156573116691286   \n",
       "\n",
       "                                     leiden   predicted_labels  \\\n",
       "AAACCCACATCTCAAG-1-Arunachalam2020-0      4            NK_16hi   \n",
       "AAACGCTGTAGCTTGT-1-Arunachalam2020-0      5  B_switched_memory   \n",
       "AAACGCTGTTTGACAC-1-Arunachalam2020-0      9            B_naive   \n",
       "AAAGAACCATCAGCAT-1-Arunachalam2020-0      5         B_immature   \n",
       "AAAGGATAGGCTATCT-1-Arunachalam2020-0     12                DC2   \n",
       "...                                     ...                ...   \n",
       "GACAAGCCTAGCTGCTCTTC_19-Zhu2020-11        2                gdT   \n",
       "AGACTGGAGCACGGCCTGTA_19-Zhu2020-11        3             CD4.CM   \n",
       "AGATGTATATCCGTGCAACC_19-Zhu2020-11        0            CD4.Tfh   \n",
       "AGATGTATATCCATCGTGAC_19-Zhu2020-11        4            NK_16hi   \n",
       "CCGAGACGTATATGGCATAG_19-Zhu2020-11        3            CD4.Tfh   \n",
       "\n",
       "                                      over_clustering    majority_voting  \n",
       "AAACCCACATCTCAAG-1-Arunachalam2020-0              430  B_switched_memory  \n",
       "AAACGCTGTAGCTTGT-1-Arunachalam2020-0              307  B_switched_memory  \n",
       "AAACGCTGTTTGACAC-1-Arunachalam2020-0              597    Plasma_cell_IgG  \n",
       "AAAGAACCATCAGCAT-1-Arunachalam2020-0              136            B_naive  \n",
       "AAAGGATAGGCTATCT-1-Arunachalam2020-0              704                DC1  \n",
       "...                                               ...                ...  \n",
       "GACAAGCCTAGCTGCTCTTC_19-Zhu2020-11                105          CD14_mono  \n",
       "AGACTGGAGCACGGCCTGTA_19-Zhu2020-11                298          CD4.Naive  \n",
       "AGATGTATATCCGTGCAACC_19-Zhu2020-11                 60          CD4.Naive  \n",
       "AGATGTATATCCATCGTGAC_19-Zhu2020-11                 83             CD8.TE  \n",
       "CCGAGACGTATATGGCATAG_19-Zhu2020-11                334             CD8.TE  \n",
       "\n",
       "[2540586 rows x 12 columns]"
      ]
     },
     "execution_count": 6,
     "metadata": {},
     "output_type": "execute_result"
    }
   ],
   "source": [
    "adata.obs"
   ]
  },
  {
   "cell_type": "code",
   "execution_count": 5,
   "metadata": {
    "vscode": {
     "languageId": "r"
    }
   },
   "outputs": [],
   "source": [
    "adata.obs[\"attn_scaled\"] = attnData[\"attn_scaled\"].values\n",
    "adata.obs[\"attn\"] = attnData[\"attn\"].values"
   ]
  },
  {
   "cell_type": "code",
   "execution_count": 6,
   "metadata": {
    "vscode": {
     "languageId": "r"
    }
   },
   "outputs": [],
   "source": [
    "adata1 = adata[adata.obs['group'] == \"H\"]\n",
    "adata2 = adata[adata.obs['group'] == \"M\"]\n",
    "adata3 = adata[adata.obs['group'] == \"S\"]"
   ]
  },
  {
   "cell_type": "code",
   "execution_count": 7,
   "metadata": {
    "vscode": {
     "languageId": "r"
    }
   },
   "outputs": [],
   "source": [
    "sc.settings.verbosity = 1\n",
    "sc.settings.figdir = './Plot/Attn_plot'\n",
    "sc.settings.set_figure_params(dpi=100, fontsize=10, dpi_save=400,\n",
    "    facecolor = 'white', figsize=(6,6), format='png')\n",
    "def one_col_lgd(umap):\n",
    "    legend = umap.legend(bbox_to_anchor=[1.00, 0.5],\n",
    "    loc='center left', ncol=1, prop={'size': 6})\n",
    "    legend.get_frame().set_linewidth(0.0)\n",
    "    for handle in legend.legendHandles:\n",
    "        handle.set_sizes([25.0])\n",
    "    return legend"
   ]
  },
  {
   "cell_type": "code",
   "execution_count": null,
   "metadata": {
    "vscode": {
     "languageId": "r"
    }
   },
   "outputs": [],
   "source": [
    "leiden_umap = sc.pl.umap(adata, color=['predicted_labels'],\n",
    "    show=False, palette=sns.color_palette(\"husl\", 24),\n",
    "legend_fontsize=6, frameon=True, title='celltype')\n",
    "lgd = one_col_lgd(leiden_umap)\n",
    "fig = leiden_umap.get_figure()\n",
    "fig.set_size_inches(5, 5)\n",
    "fig.savefig(str(sc.settings.figdir) + '/umap_celltype.pdf', \n",
    "            format='pdf', bbox_extra_artists=(lgd,), bbox_inches='tight')"
   ]
  },
  {
   "cell_type": "code",
   "execution_count": 13,
   "metadata": {
    "vscode": {
     "languageId": "r"
    }
   },
   "outputs": [
    {
     "name": "stdout",
     "output_type": "stream",
     "text": [
      "WARNING: saving figure to file /home/wuqinhua/Project/PHASE/PHASE_bkf/Plot/Attn_plot_0913/umap_attn_H.pdf\n"
     ]
    }
   ],
   "source": [
    "leiden_umap = sc.pl.umap(adata1, color='attn_scaled', show=False, legend_fontsize=6, color_map ='viridis',\n",
    "                           frameon= True, title='Attention Score of H',save=\"_attn_H.pdf\")"
   ]
  },
  {
   "cell_type": "code",
   "execution_count": 14,
   "metadata": {
    "vscode": {
     "languageId": "r"
    }
   },
   "outputs": [
    {
     "name": "stdout",
     "output_type": "stream",
     "text": [
      "WARNING: saving figure to file /home/wuqinhua/Project/PHASE/PHASE_bkf/Plot/Attn_plot_0913/umap_attn_M.pdf\n"
     ]
    }
   ],
   "source": [
    "leiden_umap = sc.pl.umap(adata2, color='attn_scaled', show=False, legend_fontsize=6, color_map ='viridis',\n",
    "                           frameon= True, title='Attention Score of M',save=\"_attn_M.pdf\")"
   ]
  },
  {
   "cell_type": "code",
   "execution_count": 15,
   "metadata": {
    "vscode": {
     "languageId": "r"
    }
   },
   "outputs": [
    {
     "name": "stdout",
     "output_type": "stream",
     "text": [
      "WARNING: saving figure to file /home/wuqinhua/Project/PHASE/PHASE_bkf/Plot/Attn_plot_0913/umap_attn_S.pdf\n"
     ]
    }
   ],
   "source": [
    "leiden_umap = sc.pl.umap(adata3, color='attn_scaled', show=False, legend_fontsize=6, color_map ='viridis',\n",
    "                           frameon= True, title='Attention Score of S',save=\"_attn_S.pdf\")"
   ]
  },
  {
   "cell_type": "markdown",
   "metadata": {},
   "source": [
    "# 2. Celltype-level"
   ]
  },
  {
   "cell_type": "markdown",
   "metadata": {},
   "source": [
    "### 2.1 boxplot "
   ]
  },
  {
   "cell_type": "code",
   "execution_count": null,
   "metadata": {
    "vscode": {
     "languageId": "r"
    }
   },
   "outputs": [],
   "source": [
    "library(tidyr)\n",
    "library(ggplot2)\n",
    "library(forestploter)\n",
    "library(gridExtra)\n",
    "library(tidyverse)\n",
    "library(dplyr)\n",
    "library(broom)\n",
    "library(ggpubr)\n",
    "library(randomForest)\n",
    "library(mice)\n",
    "library(reshape2)\n",
    "library(gghalves)\n",
    "library(cowplot)\n",
    "library(patchwork)\n",
    "\n",
    "setwd(\"/data/wuqinhua/phase/covid19\")"
   ]
  },
  {
   "cell_type": "code",
   "execution_count": null,
   "metadata": {
    "vscode": {
     "languageId": "r"
    }
   },
   "outputs": [],
   "source": [
    "attnData = read.csv('./Analysis_result/Attn_result/attn_cell_PHASE.csv')\n",
    "head(attnData)\n",
    "colnames(attnData)"
   ]
  },
  {
   "cell_type": "code",
   "execution_count": 5,
   "metadata": {
    "vscode": {
     "languageId": "r"
    }
   },
   "outputs": [],
   "source": [
    "nameAll = unique(attnData$predicted_labels)\n",
    "nameList = sort(nameAll)\n",
    "\n",
    "sampleFold = data.frame(id = character(), celltype = character(), fold = numeric())\n",
    "idList = unique(attnData$sample_id)\n",
    "for (id in idList) {\n",
    "  attnTmp = attnData %>% filter(sample_id == id)\n",
    "  avgScore = 1 / dim(attnTmp)[1]\n",
    "  foldRes = attnTmp %>% group_by(predicted_labels) %>% summarise(res = median(log2(attn/avgScore)))\n",
    "  dataTmp = data.frame(id = rep(id,dim(foldRes)[1]),\n",
    "                       celltype = foldRes$predicted_labels,\n",
    "                       fold = foldRes$res)\n",
    "  dataTmp_s = dataTmp %>% filter(celltype %in% nameList)\n",
    "  dataTmp_s$fold = scale(dataTmp_s$fold)\n",
    "  sampleFold = rbind(sampleFold,dataTmp_s)\n",
    "}"
   ]
  },
  {
   "cell_type": "code",
   "execution_count": null,
   "metadata": {
    "vscode": {
     "languageId": "r"
    }
   },
   "outputs": [],
   "source": [
    "sampleFold.Table = dcast(sampleFold,id ~ celltype)\n",
    "rownames(sampleFold.Table) = sampleFold.Table$id\n",
    "sampleFold.Table$id = NULL\n",
    "print(colnames(sampleFold.Table))"
   ]
  },
  {
   "cell_type": "code",
   "execution_count": null,
   "metadata": {
    "vscode": {
     "languageId": "r"
    }
   },
   "outputs": [],
   "source": [
    "sampleInfo = read.csv('./COVID19_sample_condition_560.csv')\n",
    "rownames(sampleInfo) = sampleInfo$sample_id\n",
    "sampleInfo = sampleInfo[rownames(sampleFold.Table),]\n",
    "\n",
    "predicted_labelss = colnames(sampleFold.Table)\n",
    "\n",
    "sampleFold.Table\n",
    "sampleFold.Table_s = sampleFold.Table\n",
    "sampleFold.Table_s$group = sampleInfo$group\n",
    "sampleFold.Table_s$id = sampleInfo$sample_id"
   ]
  },
  {
   "cell_type": "code",
   "execution_count": null,
   "metadata": {
    "vscode": {
     "languageId": "r"
    }
   },
   "outputs": [],
   "source": [
    "sampleFold.Table_st = melt(sampleFold.Table_s,id.vars = c('group','id'))\n",
    "head(sampleFold.Table_st)\n"
   ]
  },
  {
   "cell_type": "code",
   "execution_count": null,
   "metadata": {
    "vscode": {
     "languageId": "r"
    }
   },
   "outputs": [],
   "source": [
    "ordercolors <- c(\"olivedrab3\", \"skyblue1\", \"goldenrod1\")\n",
    "\n",
    "plot_list <- list()\n",
    "\n",
    "for (cell in predicted_labelss) {\n",
    "  \n",
    "  dataTmp <- data.frame(atten = sampleFold.Table[[cell]],\n",
    "                        group = sampleInfo$group)\n",
    "  dataTmp_s <- na.omit(dataTmp)  \n",
    "  \n",
    "  # Kruskal-Wallis-Test\n",
    "  kruskal_test <- kruskal.test(atten ~ group, data = dataTmp_s)\n",
    "  print(paste(\"Kruskal-Wallis test for\", cell, \":\"))\n",
    "  print(kruskal_test)\n",
    "  \n",
    "  p_value <- kruskal_test$p.value\n",
    "  p_label <- ifelse(p_value < 0.001, \"p < 0.001\", sprintf(\"p=%.3f\", p_value))\n",
    "\n",
    "  p <- ggplot(dataTmp_s, aes(x = group, y = atten, fill = group)) +  \n",
    "    geom_boxplot(outlier.shape = 16, outlier.colour = \"lightgray\") +  \n",
    "    scale_fill_manual(values = ordercolors) +  \n",
    "    scale_y_continuous(expand = c(0, 0)) + \n",
    "    labs(y = \"Celltype Attention Scores\", x = NULL) +  \n",
    "    annotate(\"text\", x = Inf, y = Inf, label = paste(cell,\": \", p_label),\n",
    "             hjust = 1.1, vjust = 2, size = 7, color = \"black\") +  \n",
    "    theme_classic() + \n",
    "    theme(axis.text = element_text(size = 12, color = \"black\"))\n",
    "  \n",
    "  plot_list[[cell]] <- p\n",
    "\n",
    "\n",
    "  filename <- paste0(\"./Plot/Attn_plot/boxplot/boxplot_\", cell, \".pdf\")\n",
    "  ggsave(filename, plot = p, width = 5, height = 4)\n",
    "  # print(p)\n",
    "\n",
    "}\n",
    "\n",
    "combine_plot = wrap_plots(plot_list,ncol=8)\n",
    "ggsave(\"./Plot/Attn_plot/boxplot_all.pdf\",combine_plot,width = 40,height = 28)"
   ]
  }
 ],
 "metadata": {
  "kernelspec": {
   "display_name": "R",
   "language": "R",
   "name": "ir"
  },
  "language_info": {
   "codemirror_mode": "r",
   "file_extension": ".r",
   "mimetype": "text/x-r-source",
   "name": "R",
   "pygments_lexer": "r",
   "version": "4.4.0"
  }
 },
 "nbformat": 4,
 "nbformat_minor": 2
}
