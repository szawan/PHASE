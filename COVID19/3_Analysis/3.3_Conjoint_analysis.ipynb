{
 "cells": [
  {
   "cell_type": "markdown",
   "metadata": {},
   "source": [
    "## 1. Calculate the gene expression score"
   ]
  },
  {
   "cell_type": "code",
   "execution_count": null,
   "metadata": {
    "vscode": {
     "languageId": "r"
    }
   },
   "outputs": [],
   "source": [
    "import os,gc\n",
    "import scanpy as sc\n",
    "import pandas as pd\n",
    "import anndata as ad\n",
    "import numpy as np\n",
    "\n",
    "os.chdir(\"/data/wuqinhua/phase/covid19\")"
   ]
  },
  {
   "cell_type": "code",
   "execution_count": null,
   "metadata": {
    "vscode": {
     "languageId": "r"
    }
   },
   "outputs": [],
   "source": [
    "## ----------------- TOP50 gene ---------------------\n",
    "\n",
    "adata = sc.read('./Alldata_anno.h5ad')\n",
    "print(\"read_over\")\n",
    "\n",
    "adata1 = adata[adata.obs['group'] == \"H\"]\n",
    "adata2 = adata[adata.obs['group'] == \"M\"]\n",
    "adata3 = adata[adata.obs['group'] == \"S\"]\n",
    "print(\"split_over\")\n",
    "\n",
    "H_gene = pd.read_csv(\"./Analysis_result/Attr_result/attr_H_PHASE.csv\") \n",
    "H_50 = H_gene.sort_values(by='attr_value', ascending=False).head(50)\n",
    "H_50 = H_50['gene_name'].tolist()\n",
    "\n",
    "M_gene = pd.read_csv(\"./Analysis_result/Attr_result/attr_M_PHASE.csv\") \n",
    "M_50 = M_gene.sort_values(by='attr_value', ascending=False).head(50)\n",
    "M_50 = M_50['gene_name'].tolist()\n",
    "\n",
    "S_gene = pd.read_csv(\"./Analysis_result/Attr_result/attr_S_PHASE.csv\") \n",
    "S_50 = S_gene.sort_values(by='attr_value', ascending=False).head(50)\n",
    "S_50 = S_50['gene_name'].tolist()\n",
    "\n",
    "sc.tl.score_genes(adata1, H_50, ctrl_size=50, gene_pool=None, n_bins=25, score_name='gene_ex_score', random_state=0, copy=False, use_raw=None)\n",
    "adata1.obs.to_csv('./Analysis_result/Conjoint_result/gene_ex_scores_Hh.csv')\n",
    "\n",
    "sc.tl.score_genes(adata2, M_50, ctrl_size=50, gene_pool=None, n_bins=25, score_name='gene_ex_score', random_state=0, copy=False, use_raw=None)\n",
    "adata2.obs.to_csv('./Analysis_result/Conjoint_result/gene_ex_scores_Mm.csv')\n",
    "\n",
    "sc.tl.score_genes(adata3, S_50, ctrl_size=50, gene_pool=None, n_bins=25, score_name='gene_ex_score', random_state=0, copy=False, use_raw=None)\n",
    "adata3.obs.to_csv('./Analysis_result/Conjoint_result/gene_ex_scores_Ss.csv')\n",
    "print(\"1_over\")\n"
   ]
  },
  {
   "cell_type": "markdown",
   "metadata": {},
   "source": [
    "## 2. Correlation scatter"
   ]
  },
  {
   "cell_type": "code",
   "execution_count": null,
   "metadata": {
    "vscode": {
     "languageId": "r"
    }
   },
   "outputs": [],
   "source": [
    "setwd(\"/data/wuqinhua/phase/covid19\")\n",
    "rm(list = ls())\n",
    "gc()\n",
    "\n",
    "library(cowplot) \n",
    "library(ggplot2) \n",
    "library(RColorBrewer) \n",
    "library(dplyr) \n",
    "library(tidyr)\n",
    "library(ggpubr) \n",
    "library(broom)\n",
    "library(tidyverse)\n",
    "library(tibble)\n",
    "library(janitor)\n",
    "library(ggrepel)\n",
    "library(tidyr)\n",
    "library(ggplot2)\n",
    "library(forestploter)\n",
    "library(gridExtra)\n",
    "library(tidyverse)\n",
    "library(dplyr)\n",
    "library(broom)\n",
    "library(ggpubr)\n",
    "library(randomForest)\n",
    "library(mice)\n",
    "library(reshape2)\n",
    "library(gghalves)\n",
    "library(cowplot)\n",
    "library(patchwork)"
   ]
  },
  {
   "cell_type": "code",
   "execution_count": null,
   "metadata": {
    "vscode": {
     "languageId": "r"
    }
   },
   "outputs": [],
   "source": [
    "attnData = read.csv('./Analysis_result/Attn_result/attn_cell_PHASE.csv')\n",
    "nameAll = unique(attnData$predicted_labels)\n",
    "nameList = sort(nameAll)\n",
    "\n",
    "sampleFold = data.frame(id = character(), celltype = character(), fold = numeric())\n",
    "idList = unique(attnData$sample_id)\n",
    "for (id in idList) {\n",
    "  attnTmp = attnData %>% filter(sample_id == id)\n",
    "  avgScore = 1 / dim(attnTmp)[1]\n",
    "  foldRes = attnTmp %>% group_by(predicted_labels) %>% summarise(res = median(log2(attn/avgScore)))\n",
    "  dataTmp = data.frame(id = rep(id,dim(foldRes)[1]),\n",
    "                       celltype = foldRes$predicted_labels,\n",
    "                       fold = foldRes$res)\n",
    "  dataTmp_s = dataTmp %>% filter(celltype %in% nameList)\n",
    "\n",
    "  dataTmp_s$fold = scale(dataTmp_s$fold)\n",
    "\n",
    "\n",
    "  sampleFold = rbind(sampleFold,dataTmp_s)\n",
    "}\n",
    "\n",
    "sampleFold.Table = dcast(sampleFold,id ~ celltype)\n",
    "rownames(sampleFold.Table) = sampleFold.Table$id\n",
    "sampleFold.Table$id = NULL\n",
    "\n",
    "\n",
    "attn = sampleFold.Table\n",
    "head(attn)\n"
   ]
  },
  {
   "cell_type": "code",
   "execution_count": 1,
   "metadata": {
    "vscode": {
     "languageId": "r"
    }
   },
   "outputs": [],
   "source": [
    "ex_Hh = read.csv('./Analysis_result/Conjoint_result/gene_ex_scores_Hh.csv')\n",
    "ex_Mm = read.csv('./Analysis_result/Conjoint_result/gene_ex_scores_Mm.csv')\n",
    "ex_Ss = read.csv('./Analysis_result/Conjoint_result/gene_ex_scores_Ss.csv')\n",
    "exData = rbind(ex_Hh, ex_Mm, ex_Ss)\n",
    "head(exData)"
   ]
  },
  {
   "cell_type": "code",
   "execution_count": null,
   "metadata": {
    "vscode": {
     "languageId": "r"
    }
   },
   "outputs": [],
   "source": [
    "nameAll = unique(exData$predicted_labels)\n",
    "nameList = sort(nameAll)\n",
    "\n",
    "sampleFold = data.frame(id = character(), celltype = character(), fold = numeric())\n",
    "idList = unique(exData$sample_id)\n",
    "for (id in idList) {\n",
    "  attnTmp = exData %>% filter(sample_id == id)\n",
    "  avgScore = 1 / dim(attnTmp)[1]\n",
    "  foldRes = attnTmp %>% group_by(predicted_labels) %>% summarise(res = median(gene_ex_score))\n",
    "  dataTmp = data.frame(id = rep(id,dim(foldRes)[1]),\n",
    "                       celltype = foldRes$predicted_labels,\n",
    "                       fold = foldRes$res)\n",
    "  dataTmp_s = dataTmp %>% filter(celltype %in% nameList)\n",
    "  sampleFold = rbind(sampleFold,dataTmp_s)\n",
    "}\n",
    "\n",
    "ex_sampleFold.Table = dcast(sampleFold,id ~ celltype)\n",
    "rownames(ex_sampleFold.Table) = ex_sampleFold.Table$id\n",
    "ex_sampleFold.Table$id = NULL\n",
    "ex = ex_sampleFold.Table\n",
    "head(ex)"
   ]
  },
  {
   "cell_type": "code",
   "execution_count": null,
   "metadata": {
    "vscode": {
     "languageId": "r"
    }
   },
   "outputs": [],
   "source": [
    "sampleInfo = read.csv('./COVID19_sample_condition_560.csv')\n",
    "rownames(sampleInfo) = sampleInfo$sample_id\n",
    "sampleInfo = sampleInfo[rownames(attn),]\n",
    "ex = ex[rownames(attn),]\n",
    "\n",
    "label_df <- data.frame(sample = sampleInfo$sample_id, label = sampleInfo$group)\n",
    "\n",
    "custom_colors <- c(\"H\" = \"#A2D8A2\", \"M\" = \"#B8D8F1\", \"S\" = \"#F5B54F\")\n",
    "plot_list <- list()\n",
    "\n",
    "for (celltype in colnames(ex_sampleFold.Table)) {\n",
    "  merged_data <- data.frame(\n",
    "    sample = rownames(attn),\n",
    "    attn = attn[, celltype],\n",
    "    ex = ex[, celltype],\n",
    "    label = label_df$label\n",
    "  )\n",
    "\n",
    "\n",
    "p <- ggscatter(merged_data, x = 'attn', y = 'ex', title = paste(\"Cell type:\", celltype),\n",
    "                 add = \"reg.line\", color = 'label',\n",
    "                 add.params = list(color = \"#4B4B4B\", fill = \"lightgray\"),\n",
    "                 cor.coeff.args = list(method = \"pearson\", size = 4), \n",
    "                 conf.int = TRUE, cor.coef = TRUE, cor.method = \"pearson\", \n",
    "                 size = 1, font.label = c(5, 'plain')) +\n",
    "                 scale_color_manual(values = custom_colors)\n",
    "\n",
    "  # print(p)\n",
    "  plot_list[[celltype]] <- p\n",
    "  \n",
    "  ggsave(paste0(\"./Plot/Conjoint_plot/cor_plot/correlation_\", celltype, \".png\"), plot = p, width = 5, height = 4)\n",
    "}\n",
    "\n",
    "\n",
    "combine_plot = wrap_plots(plot_list,ncol=8)\n",
    "ggsave(\"./Plot/Conjoint_plot//correlation_all.png\",combine_plot,width = 25,height = 28)"
   ]
  }
 ],
 "metadata": {
  "kernelspec": {
   "display_name": "R",
   "language": "R",
   "name": "ir"
  },
  "language_info": {
   "codemirror_mode": "r",
   "file_extension": ".r",
   "mimetype": "text/x-r-source",
   "name": "R",
   "pygments_lexer": "r",
   "version": "4.4.0"
  }
 },
 "nbformat": 4,
 "nbformat_minor": 2
}
